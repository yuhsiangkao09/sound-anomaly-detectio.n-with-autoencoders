{
 "cells": [
  {
   "cell_type": "code",
   "execution_count": 16,
   "id": "971a139b-8ce8-4d1f-b541-72e24416a053",
   "metadata": {},
   "outputs": [
    {
     "name": "stdout",
     "output_type": "stream",
     "text": [
      "The autoreload extension is already loaded. To reload it, use:\n",
      "  %reload_ext autoreload\n"
     ]
    }
   ],
   "source": [
    "%load_ext autoreload\n",
    "%autoreload 2"
   ]
  },
  {
   "cell_type": "code",
   "execution_count": 17,
   "id": "1adaaa23-5bd7-423c-a9ee-68f5b6783118",
   "metadata": {},
   "outputs": [
    {
     "data": {
      "text/html": [
       "\n",
       "    <div class=\"bk-root\">\n",
       "        <a href=\"https://bokeh.org\" target=\"_blank\" class=\"bk-logo bk-logo-small bk-logo-notebook\"></a>\n",
       "        <span id=\"1243\">Loading BokehJS ...</span>\n",
       "    </div>"
      ]
     },
     "metadata": {},
     "output_type": "display_data"
    },
    {
     "data": {
      "application/javascript": [
       "\n",
       "(function(root) {\n",
       "  function now() {\n",
       "    return new Date();\n",
       "  }\n",
       "\n",
       "  var force = true;\n",
       "\n",
       "  if (typeof root._bokeh_onload_callbacks === \"undefined\" || force === true) {\n",
       "    root._bokeh_onload_callbacks = [];\n",
       "    root._bokeh_is_loading = undefined;\n",
       "  }\n",
       "\n",
       "  var JS_MIME_TYPE = 'application/javascript';\n",
       "  var HTML_MIME_TYPE = 'text/html';\n",
       "  var EXEC_MIME_TYPE = 'application/vnd.bokehjs_exec.v0+json';\n",
       "  var CLASS_NAME = 'output_bokeh rendered_html';\n",
       "\n",
       "  /**\n",
       "   * Render data to the DOM node\n",
       "   */\n",
       "  function render(props, node) {\n",
       "    var script = document.createElement(\"script\");\n",
       "    node.appendChild(script);\n",
       "  }\n",
       "\n",
       "  /**\n",
       "   * Handle when an output is cleared or removed\n",
       "   */\n",
       "  function handleClearOutput(event, handle) {\n",
       "    var cell = handle.cell;\n",
       "\n",
       "    var id = cell.output_area._bokeh_element_id;\n",
       "    var server_id = cell.output_area._bokeh_server_id;\n",
       "    // Clean up Bokeh references\n",
       "    if (id != null && id in Bokeh.index) {\n",
       "      Bokeh.index[id].model.document.clear();\n",
       "      delete Bokeh.index[id];\n",
       "    }\n",
       "\n",
       "    if (server_id !== undefined) {\n",
       "      // Clean up Bokeh references\n",
       "      var cmd = \"from bokeh.io.state import curstate; print(curstate().uuid_to_server['\" + server_id + \"'].get_sessions()[0].document.roots[0]._id)\";\n",
       "      cell.notebook.kernel.execute(cmd, {\n",
       "        iopub: {\n",
       "          output: function(msg) {\n",
       "            var id = msg.content.text.trim();\n",
       "            if (id in Bokeh.index) {\n",
       "              Bokeh.index[id].model.document.clear();\n",
       "              delete Bokeh.index[id];\n",
       "            }\n",
       "          }\n",
       "        }\n",
       "      });\n",
       "      // Destroy server and session\n",
       "      var cmd = \"import bokeh.io.notebook as ion; ion.destroy_server('\" + server_id + \"')\";\n",
       "      cell.notebook.kernel.execute(cmd);\n",
       "    }\n",
       "  }\n",
       "\n",
       "  /**\n",
       "   * Handle when a new output is added\n",
       "   */\n",
       "  function handleAddOutput(event, handle) {\n",
       "    var output_area = handle.output_area;\n",
       "    var output = handle.output;\n",
       "\n",
       "    // limit handleAddOutput to display_data with EXEC_MIME_TYPE content only\n",
       "    if ((output.output_type != \"display_data\") || (!Object.prototype.hasOwnProperty.call(output.data, EXEC_MIME_TYPE))) {\n",
       "      return\n",
       "    }\n",
       "\n",
       "    var toinsert = output_area.element.find(\".\" + CLASS_NAME.split(' ')[0]);\n",
       "\n",
       "    if (output.metadata[EXEC_MIME_TYPE][\"id\"] !== undefined) {\n",
       "      toinsert[toinsert.length - 1].firstChild.textContent = output.data[JS_MIME_TYPE];\n",
       "      // store reference to embed id on output_area\n",
       "      output_area._bokeh_element_id = output.metadata[EXEC_MIME_TYPE][\"id\"];\n",
       "    }\n",
       "    if (output.metadata[EXEC_MIME_TYPE][\"server_id\"] !== undefined) {\n",
       "      var bk_div = document.createElement(\"div\");\n",
       "      bk_div.innerHTML = output.data[HTML_MIME_TYPE];\n",
       "      var script_attrs = bk_div.children[0].attributes;\n",
       "      for (var i = 0; i < script_attrs.length; i++) {\n",
       "        toinsert[toinsert.length - 1].firstChild.setAttribute(script_attrs[i].name, script_attrs[i].value);\n",
       "        toinsert[toinsert.length - 1].firstChild.textContent = bk_div.children[0].textContent\n",
       "      }\n",
       "      // store reference to server id on output_area\n",
       "      output_area._bokeh_server_id = output.metadata[EXEC_MIME_TYPE][\"server_id\"];\n",
       "    }\n",
       "  }\n",
       "\n",
       "  function register_renderer(events, OutputArea) {\n",
       "\n",
       "    function append_mime(data, metadata, element) {\n",
       "      // create a DOM node to render to\n",
       "      var toinsert = this.create_output_subarea(\n",
       "        metadata,\n",
       "        CLASS_NAME,\n",
       "        EXEC_MIME_TYPE\n",
       "      );\n",
       "      this.keyboard_manager.register_events(toinsert);\n",
       "      // Render to node\n",
       "      var props = {data: data, metadata: metadata[EXEC_MIME_TYPE]};\n",
       "      render(props, toinsert[toinsert.length - 1]);\n",
       "      element.append(toinsert);\n",
       "      return toinsert\n",
       "    }\n",
       "\n",
       "    /* Handle when an output is cleared or removed */\n",
       "    events.on('clear_output.CodeCell', handleClearOutput);\n",
       "    events.on('delete.Cell', handleClearOutput);\n",
       "\n",
       "    /* Handle when a new output is added */\n",
       "    events.on('output_added.OutputArea', handleAddOutput);\n",
       "\n",
       "    /**\n",
       "     * Register the mime type and append_mime function with output_area\n",
       "     */\n",
       "    OutputArea.prototype.register_mime_type(EXEC_MIME_TYPE, append_mime, {\n",
       "      /* Is output safe? */\n",
       "      safe: true,\n",
       "      /* Index of renderer in `output_area.display_order` */\n",
       "      index: 0\n",
       "    });\n",
       "  }\n",
       "\n",
       "  // register the mime type if in Jupyter Notebook environment and previously unregistered\n",
       "  if (root.Jupyter !== undefined) {\n",
       "    var events = require('base/js/events');\n",
       "    var OutputArea = require('notebook/js/outputarea').OutputArea;\n",
       "\n",
       "    if (OutputArea.prototype.mime_types().indexOf(EXEC_MIME_TYPE) == -1) {\n",
       "      register_renderer(events, OutputArea);\n",
       "    }\n",
       "  }\n",
       "\n",
       "  \n",
       "  if (typeof (root._bokeh_timeout) === \"undefined\" || force === true) {\n",
       "    root._bokeh_timeout = Date.now() + 5000;\n",
       "    root._bokeh_failed_load = false;\n",
       "  }\n",
       "\n",
       "  var NB_LOAD_WARNING = {'data': {'text/html':\n",
       "     \"<div style='background-color: #fdd'>\\n\"+\n",
       "     \"<p>\\n\"+\n",
       "     \"BokehJS does not appear to have successfully loaded. If loading BokehJS from CDN, this \\n\"+\n",
       "     \"may be due to a slow or bad network connection. Possible fixes:\\n\"+\n",
       "     \"</p>\\n\"+\n",
       "     \"<ul>\\n\"+\n",
       "     \"<li>re-rerun `output_notebook()` to attempt to load from CDN again, or</li>\\n\"+\n",
       "     \"<li>use INLINE resources instead, as so:</li>\\n\"+\n",
       "     \"</ul>\\n\"+\n",
       "     \"<code>\\n\"+\n",
       "     \"from bokeh.resources import INLINE\\n\"+\n",
       "     \"output_notebook(resources=INLINE)\\n\"+\n",
       "     \"</code>\\n\"+\n",
       "     \"</div>\"}};\n",
       "\n",
       "  function display_loaded() {\n",
       "    var el = document.getElementById(\"1243\");\n",
       "    if (el != null) {\n",
       "      el.textContent = \"BokehJS is loading...\";\n",
       "    }\n",
       "    if (root.Bokeh !== undefined) {\n",
       "      if (el != null) {\n",
       "        el.textContent = \"BokehJS \" + root.Bokeh.version + \" successfully loaded.\";\n",
       "      }\n",
       "    } else if (Date.now() < root._bokeh_timeout) {\n",
       "      setTimeout(display_loaded, 100)\n",
       "    }\n",
       "  }\n",
       "\n",
       "\n",
       "  function run_callbacks() {\n",
       "    try {\n",
       "      root._bokeh_onload_callbacks.forEach(function(callback) {\n",
       "        if (callback != null)\n",
       "          callback();\n",
       "      });\n",
       "    } finally {\n",
       "      delete root._bokeh_onload_callbacks\n",
       "    }\n",
       "    console.debug(\"Bokeh: all callbacks have finished\");\n",
       "  }\n",
       "\n",
       "  function load_libs(css_urls, js_urls, callback) {\n",
       "    if (css_urls == null) css_urls = [];\n",
       "    if (js_urls == null) js_urls = [];\n",
       "\n",
       "    root._bokeh_onload_callbacks.push(callback);\n",
       "    if (root._bokeh_is_loading > 0) {\n",
       "      console.debug(\"Bokeh: BokehJS is being loaded, scheduling callback at\", now());\n",
       "      return null;\n",
       "    }\n",
       "    if (js_urls == null || js_urls.length === 0) {\n",
       "      run_callbacks();\n",
       "      return null;\n",
       "    }\n",
       "    console.debug(\"Bokeh: BokehJS not loaded, scheduling load and callback at\", now());\n",
       "    root._bokeh_is_loading = css_urls.length + js_urls.length;\n",
       "\n",
       "    function on_load() {\n",
       "      root._bokeh_is_loading--;\n",
       "      if (root._bokeh_is_loading === 0) {\n",
       "        console.debug(\"Bokeh: all BokehJS libraries/stylesheets loaded\");\n",
       "        run_callbacks()\n",
       "      }\n",
       "    }\n",
       "\n",
       "    function on_error(url) {\n",
       "      console.error(\"failed to load \" + url);\n",
       "    }\n",
       "\n",
       "    for (let i = 0; i < css_urls.length; i++) {\n",
       "      const url = css_urls[i];\n",
       "      const element = document.createElement(\"link\");\n",
       "      element.onload = on_load;\n",
       "      element.onerror = on_error.bind(null, url);\n",
       "      element.rel = \"stylesheet\";\n",
       "      element.type = \"text/css\";\n",
       "      element.href = url;\n",
       "      console.debug(\"Bokeh: injecting link tag for BokehJS stylesheet: \", url);\n",
       "      document.body.appendChild(element);\n",
       "    }\n",
       "\n",
       "    const hashes = {\"https://cdn.bokeh.org/bokeh/release/bokeh-2.3.3.min.js\": \"dM3QQsP+wXdHg42wTqW85BjZQdLNNIXqlPw/BgKoExPmTG7ZLML4EGqLMfqHT6ON\", \"https://cdn.bokeh.org/bokeh/release/bokeh-tables-2.3.3.min.js\": \"8x57I4YuIfu8XyZfFo0XVr2WAT8EK4rh/uDe3wF7YuW2FNUSNEpJbsPaB1nJ2fz2\", \"https://cdn.bokeh.org/bokeh/release/bokeh-widgets-2.3.3.min.js\": \"3QTqdz9LyAm2i0sG5XTePsHec3UHWwVsrOL68SYRoAXsafvfAyqtQ+h440+qIBhS\"};\n",
       "\n",
       "    for (let i = 0; i < js_urls.length; i++) {\n",
       "      const url = js_urls[i];\n",
       "      const element = document.createElement('script');\n",
       "      element.onload = on_load;\n",
       "      element.onerror = on_error.bind(null, url);\n",
       "      element.async = false;\n",
       "      element.src = url;\n",
       "      if (url in hashes) {\n",
       "        element.crossOrigin = \"anonymous\";\n",
       "        element.integrity = \"sha384-\" + hashes[url];\n",
       "      }\n",
       "      console.debug(\"Bokeh: injecting script tag for BokehJS library: \", url);\n",
       "      document.head.appendChild(element);\n",
       "    }\n",
       "  };\n",
       "\n",
       "  function inject_raw_css(css) {\n",
       "    const element = document.createElement(\"style\");\n",
       "    element.appendChild(document.createTextNode(css));\n",
       "    document.body.appendChild(element);\n",
       "  }\n",
       "\n",
       "  \n",
       "  var js_urls = [\"https://cdn.bokeh.org/bokeh/release/bokeh-2.3.3.min.js\", \"https://cdn.bokeh.org/bokeh/release/bokeh-widgets-2.3.3.min.js\", \"https://cdn.bokeh.org/bokeh/release/bokeh-tables-2.3.3.min.js\"];\n",
       "  var css_urls = [];\n",
       "  \n",
       "\n",
       "  var inline_js = [\n",
       "    function(Bokeh) {\n",
       "      Bokeh.set_log_level(\"info\");\n",
       "    },\n",
       "    function(Bokeh) {\n",
       "    \n",
       "    \n",
       "    }\n",
       "  ];\n",
       "\n",
       "  function run_inline_js() {\n",
       "    \n",
       "    if (root.Bokeh !== undefined || force === true) {\n",
       "      \n",
       "    for (var i = 0; i < inline_js.length; i++) {\n",
       "      inline_js[i].call(root, root.Bokeh);\n",
       "    }\n",
       "    if (force === true) {\n",
       "        display_loaded();\n",
       "      }} else if (Date.now() < root._bokeh_timeout) {\n",
       "      setTimeout(run_inline_js, 100);\n",
       "    } else if (!root._bokeh_failed_load) {\n",
       "      console.log(\"Bokeh: BokehJS failed to load within specified timeout.\");\n",
       "      root._bokeh_failed_load = true;\n",
       "    } else if (force !== true) {\n",
       "      var cell = $(document.getElementById(\"1243\")).parents('.cell').data().cell;\n",
       "      cell.output_area.append_execute_result(NB_LOAD_WARNING)\n",
       "    }\n",
       "\n",
       "  }\n",
       "\n",
       "  if (root._bokeh_is_loading === 0) {\n",
       "    console.debug(\"Bokeh: BokehJS loaded, going straight to plotting\");\n",
       "    run_inline_js();\n",
       "  } else {\n",
       "    load_libs(css_urls, js_urls, function() {\n",
       "      console.debug(\"Bokeh: BokehJS plotting callback run at\", now());\n",
       "      run_inline_js();\n",
       "    });\n",
       "  }\n",
       "}(window));"
      ],
      "application/vnd.bokehjs_load.v0+json": "\n(function(root) {\n  function now() {\n    return new Date();\n  }\n\n  var force = true;\n\n  if (typeof root._bokeh_onload_callbacks === \"undefined\" || force === true) {\n    root._bokeh_onload_callbacks = [];\n    root._bokeh_is_loading = undefined;\n  }\n\n  \n\n  \n  if (typeof (root._bokeh_timeout) === \"undefined\" || force === true) {\n    root._bokeh_timeout = Date.now() + 5000;\n    root._bokeh_failed_load = false;\n  }\n\n  var NB_LOAD_WARNING = {'data': {'text/html':\n     \"<div style='background-color: #fdd'>\\n\"+\n     \"<p>\\n\"+\n     \"BokehJS does not appear to have successfully loaded. If loading BokehJS from CDN, this \\n\"+\n     \"may be due to a slow or bad network connection. Possible fixes:\\n\"+\n     \"</p>\\n\"+\n     \"<ul>\\n\"+\n     \"<li>re-rerun `output_notebook()` to attempt to load from CDN again, or</li>\\n\"+\n     \"<li>use INLINE resources instead, as so:</li>\\n\"+\n     \"</ul>\\n\"+\n     \"<code>\\n\"+\n     \"from bokeh.resources import INLINE\\n\"+\n     \"output_notebook(resources=INLINE)\\n\"+\n     \"</code>\\n\"+\n     \"</div>\"}};\n\n  function display_loaded() {\n    var el = document.getElementById(\"1243\");\n    if (el != null) {\n      el.textContent = \"BokehJS is loading...\";\n    }\n    if (root.Bokeh !== undefined) {\n      if (el != null) {\n        el.textContent = \"BokehJS \" + root.Bokeh.version + \" successfully loaded.\";\n      }\n    } else if (Date.now() < root._bokeh_timeout) {\n      setTimeout(display_loaded, 100)\n    }\n  }\n\n\n  function run_callbacks() {\n    try {\n      root._bokeh_onload_callbacks.forEach(function(callback) {\n        if (callback != null)\n          callback();\n      });\n    } finally {\n      delete root._bokeh_onload_callbacks\n    }\n    console.debug(\"Bokeh: all callbacks have finished\");\n  }\n\n  function load_libs(css_urls, js_urls, callback) {\n    if (css_urls == null) css_urls = [];\n    if (js_urls == null) js_urls = [];\n\n    root._bokeh_onload_callbacks.push(callback);\n    if (root._bokeh_is_loading > 0) {\n      console.debug(\"Bokeh: BokehJS is being loaded, scheduling callback at\", now());\n      return null;\n    }\n    if (js_urls == null || js_urls.length === 0) {\n      run_callbacks();\n      return null;\n    }\n    console.debug(\"Bokeh: BokehJS not loaded, scheduling load and callback at\", now());\n    root._bokeh_is_loading = css_urls.length + js_urls.length;\n\n    function on_load() {\n      root._bokeh_is_loading--;\n      if (root._bokeh_is_loading === 0) {\n        console.debug(\"Bokeh: all BokehJS libraries/stylesheets loaded\");\n        run_callbacks()\n      }\n    }\n\n    function on_error(url) {\n      console.error(\"failed to load \" + url);\n    }\n\n    for (let i = 0; i < css_urls.length; i++) {\n      const url = css_urls[i];\n      const element = document.createElement(\"link\");\n      element.onload = on_load;\n      element.onerror = on_error.bind(null, url);\n      element.rel = \"stylesheet\";\n      element.type = \"text/css\";\n      element.href = url;\n      console.debug(\"Bokeh: injecting link tag for BokehJS stylesheet: \", url);\n      document.body.appendChild(element);\n    }\n\n    const hashes = {\"https://cdn.bokeh.org/bokeh/release/bokeh-2.3.3.min.js\": \"dM3QQsP+wXdHg42wTqW85BjZQdLNNIXqlPw/BgKoExPmTG7ZLML4EGqLMfqHT6ON\", \"https://cdn.bokeh.org/bokeh/release/bokeh-tables-2.3.3.min.js\": \"8x57I4YuIfu8XyZfFo0XVr2WAT8EK4rh/uDe3wF7YuW2FNUSNEpJbsPaB1nJ2fz2\", \"https://cdn.bokeh.org/bokeh/release/bokeh-widgets-2.3.3.min.js\": \"3QTqdz9LyAm2i0sG5XTePsHec3UHWwVsrOL68SYRoAXsafvfAyqtQ+h440+qIBhS\"};\n\n    for (let i = 0; i < js_urls.length; i++) {\n      const url = js_urls[i];\n      const element = document.createElement('script');\n      element.onload = on_load;\n      element.onerror = on_error.bind(null, url);\n      element.async = false;\n      element.src = url;\n      if (url in hashes) {\n        element.crossOrigin = \"anonymous\";\n        element.integrity = \"sha384-\" + hashes[url];\n      }\n      console.debug(\"Bokeh: injecting script tag for BokehJS library: \", url);\n      document.head.appendChild(element);\n    }\n  };\n\n  function inject_raw_css(css) {\n    const element = document.createElement(\"style\");\n    element.appendChild(document.createTextNode(css));\n    document.body.appendChild(element);\n  }\n\n  \n  var js_urls = [\"https://cdn.bokeh.org/bokeh/release/bokeh-2.3.3.min.js\", \"https://cdn.bokeh.org/bokeh/release/bokeh-widgets-2.3.3.min.js\", \"https://cdn.bokeh.org/bokeh/release/bokeh-tables-2.3.3.min.js\"];\n  var css_urls = [];\n  \n\n  var inline_js = [\n    function(Bokeh) {\n      Bokeh.set_log_level(\"info\");\n    },\n    function(Bokeh) {\n    \n    \n    }\n  ];\n\n  function run_inline_js() {\n    \n    if (root.Bokeh !== undefined || force === true) {\n      \n    for (var i = 0; i < inline_js.length; i++) {\n      inline_js[i].call(root, root.Bokeh);\n    }\n    if (force === true) {\n        display_loaded();\n      }} else if (Date.now() < root._bokeh_timeout) {\n      setTimeout(run_inline_js, 100);\n    } else if (!root._bokeh_failed_load) {\n      console.log(\"Bokeh: BokehJS failed to load within specified timeout.\");\n      root._bokeh_failed_load = true;\n    } else if (force !== true) {\n      var cell = $(document.getElementById(\"1243\")).parents('.cell').data().cell;\n      cell.output_area.append_execute_result(NB_LOAD_WARNING)\n    }\n\n  }\n\n  if (root._bokeh_is_loading === 0) {\n    console.debug(\"Bokeh: BokehJS loaded, going straight to plotting\");\n    run_inline_js();\n  } else {\n    load_libs(css_urls, js_urls, function() {\n      console.debug(\"Bokeh: BokehJS plotting callback run at\", now());\n      run_inline_js();\n    });\n  }\n}(window));"
     },
     "metadata": {},
     "output_type": "display_data"
    }
   ],
   "source": [
    "import glob\n",
    "import os\n",
    "import warnings\n",
    "import numpy as np\n",
    "from bokeh.io import export_svgs, output_notebook\n",
    "from bokeh.models import BoxAnnotation, ColumnDataSource, HoverTool\n",
    "from bokeh.plotting import figure, show\n",
    "from sklearn.metrics import (\n",
    "    accuracy_score,\n",
    "    confusion_matrix,\n",
    "    f1_score,\n",
    "    precision_score,\n",
    "    recall_score,\n",
    "    average_precision_score,\n",
    "    precision_recall_curve,\n",
    "    roc_auc_score,\n",
    "    roc_curve,\n",
    ")\n",
    "from sklearn.model_selection import train_test_split\n",
    "from tqdm.notebook import tqdm\n",
    "from utils.measuring_performance import (\n",
    "    get_prediction,\n",
    "    plot_confusion_matrix,\n",
    "    plot_histogram_by_class,\n",
    "    plot_loss_per_epoch,\n",
    "    plot_pr_curve,\n",
    "    plot_roc_curve,\n",
    ")\n",
    "from utils.misc import build_files_list, dump_pickle, load_pickle\n",
    "from utils.sound_utils import extract_signal_features, generate_dataset, load_sound_file\n",
    "\n",
    "output_notebook()\n",
    "warnings.filterwarnings(\"ignore\")\n",
    "np.random.seed(42)"
   ]
  },
  {
   "cell_type": "code",
   "execution_count": 18,
   "id": "3c27992c-448d-4fcb-82df-005cb6b01da1",
   "metadata": {},
   "outputs": [],
   "source": [
    "import tensorflow as tf\n",
    "from tensorflow.keras import Input\n",
    "from tensorflow.keras.callbacks import EarlyStopping\n",
    "from tensorflow.keras.layers import Dense\n",
    "from tensorflow.keras.models import Model\n",
    "from tensorflow.keras.optimizers import Adam\n",
    "from tensorflow.keras.utils import multi_gpu_model\n",
    "from tensorflow.python.client import device_lib\n",
    "\n",
    "tf.set_random_seed(42)"
   ]
  },
  {
   "cell_type": "code",
   "execution_count": 19,
   "id": "78552a56-23e4-4295-a178-b625ac2c4ab9",
   "metadata": {},
   "outputs": [],
   "source": [
    "def get_available_gpus():\n",
    "    local_devices = device_lib.list_local_devices()\n",
    "    return [x.name for x in local_devices if x.device_type == \"GPU\"]"
   ]
  },
  {
   "cell_type": "markdown",
   "id": "81ca7bdf-bbf5-48e8-8542-4bb028fd1094",
   "metadata": {},
   "source": [
    "The boolean variable `COMBINE_MACHINE_ID` allows you to decide whether to perform modeling separately for each machine ID, or combine all data from the same machine type to perform modeling."
   ]
  },
  {
   "cell_type": "code",
   "execution_count": 20,
   "id": "34adbb79",
   "metadata": {},
   "outputs": [],
   "source": [
    "DATA_PATH = \"../mimii-anomaly-detection\"\n",
    "IMAGE_PATH = \"./img\"\n",
    "MODEL_PATH = \"./models\"\n",
    "MERGE_MACHINE_ID = True\n",
    "\n",
    "os.makedirs(os.path.join(DATA_PATH, \"dataset\"), exist_ok=True)\n",
    "os.makedirs(MODEL_PATH, exist_ok=True)\n",
    "\n",
    "file_paths = sorted(\n",
    "    glob.glob(DATA_PATH + \"/*/*\" if MERGE_MACHINE_ID else DATA_PATH + \"/*/*/*\")\n",
    ")"
   ]
  },
  {
   "cell_type": "markdown",
   "id": "6870f533-d3a3-4517-a965-3af32fe38f6f",
   "metadata": {},
   "source": [
    "# Data Splitting and Preprocessing"
   ]
  },
  {
   "cell_type": "code",
   "execution_count": 21,
   "id": "404129ca-a017-40f8-85b8-9a9244d561cd",
   "metadata": {},
   "outputs": [
    {
     "name": "stdout",
     "output_type": "stream",
     "text": [
      "db: dataset2, machine type: test_files__mimii-anomaly-detection.txt\n"
     ]
    }
   ],
   "source": [
    "file_path = file_paths[0]\n",
    "file_path = os.path.normpath(file_path)\n",
    "file_path_split = file_path.split(os.path.sep)\n",
    "SUFFIX = \"_\" + file_path_split[1]\n",
    "\n",
    "if MERGE_MACHINE_ID:\n",
    "    print(f\"db: {file_path_split[-2]}, machine type: {file_path_split[-1]}\")\n",
    "\n",
    "else:\n",
    "    print(\n",
    "        f\"db: {file_path_split[-3]}, machine type: {file_path_split[-2]}, machine id: {file_path_split[-1]}\"\n",
    "    )\n",
    "    SUFFIX = \"_\".join([SUFFIX, file_path_split[-3]])"
   ]
  },
  {
   "cell_type": "markdown",
   "id": "1d83bb51-93f6-4adf-a435-1916f9aa1c25",
   "metadata": {},
   "source": [
    "Because unsupervised learning is used, all anomalous labels are assigned to the test set."
   ]
  },
  {
   "cell_type": "code",
   "execution_count": 22,
   "id": "04fe076f-09a8-4e64-8716-e35fe88e66f1",
   "metadata": {},
   "outputs": [
    {
     "name": "stdout",
     "output_type": "stream",
     "text": [
      "Found 0 normal files and 0 abnormal files in ../mimii-anomaly-detection\\dataset2\\test_files__mimii-anomaly-detection.txt\n",
      "Found 0 normal files and 0 abnormal files in ../mimii-anomaly-detection\\dataset2\\test_labels__mimii-anomaly-detection.txt\n",
      "Found 0 normal files and 0 abnormal files in ../mimii-anomaly-detection\\dataset2\\train_data__mimii-anomaly-detection.pkl\n",
      "Found 0 normal files and 0 abnormal files in ../mimii-anomaly-detection\\dataset2\\train_files__mimii-anomaly-detection.txt\n",
      "Found 0 normal files and 0 abnormal files in ../mimii-anomaly-detection\\dataset2\\train_labels__mimii-anomaly-detection.txt\n",
      "Found 0 normal files and 0 abnormal files in ../mimii-anomaly-detection\\dataset\\test_files_mimii-anomaly-detection.txt\n",
      "Found 0 normal files and 0 abnormal files in ../mimii-anomaly-detection\\dataset\\test_labels_mimii-anomaly-detection.txt\n",
      "Found 0 normal files and 0 abnormal files in ../mimii-anomaly-detection\\dataset\\train_data_mimii-anomaly-detection.pkl\n",
      "Found 0 normal files and 0 abnormal files in ../mimii-anomaly-detection\\dataset\\train_files_mimii-anomaly-detection.txt\n",
      "Found 0 normal files and 0 abnormal files in ../mimii-anomaly-detection\\dataset\\train_labels_mimii-anomaly-detection.txt\n",
      "Found 1006 normal files and 143 abnormal files in ../mimii-anomaly-detection\\pump\\id_00\n",
      "Found 1005 normal files and 111 abnormal files in ../mimii-anomaly-detection\\pump\\id_02\n",
      "Found 702 normal files and 100 abnormal files in ../mimii-anomaly-detection\\pump\\id_04\n",
      "Found 1036 normal files and 102 abnormal files in ../mimii-anomaly-detection\\pump\\id_06\n",
      "Train set has 2623 signals including 0 abnormal signals,     while test set has 1582 signals including 456 abnormal signals.\n"
     ]
    }
   ],
   "source": [
    "train_files, test_files, train_labels, test_labels = [], [], [], []\n",
    "\n",
    "for path in file_paths:\n",
    "    normal_files, abnormal_files = build_files_list(path)\n",
    "    normal_labels = np.zeros(len(normal_files))\n",
    "    abnormal_labels = np.ones(len(abnormal_files))\n",
    "\n",
    "    # Split normal files for training and testing\n",
    "    train_files_split, test_files_split, train_labels_split, test_labels_split = train_test_split(\n",
    "        normal_files, normal_labels, train_size=0.7, random_state=42, shuffle=True\n",
    "    )\n",
    "\n",
    "    # Extend training set\n",
    "    train_files.extend(train_files_split)\n",
    "    train_labels.extend(train_labels_split)\n",
    "\n",
    "    # Extend testing set with remaining normal files and all abnormal files\n",
    "    test_files.extend(test_files_split)\n",
    "    test_labels.extend(test_labels_split)\n",
    "    test_files.extend(abnormal_files)\n",
    "    test_labels.extend(abnormal_labels)\n",
    "\n",
    "# Shuffle test set indices\n",
    "test_indices = np.arange(len(test_files))\n",
    "np.random.shuffle(test_indices)\n",
    "\n",
    "# Reorder test files and labels\n",
    "test_files = np.array(test_files)[test_indices]\n",
    "test_labels = np.array(test_labels)[test_indices]\n",
    "\n",
    "print(\n",
    "    f\"Train set has {len(train_files)} signals including {int(sum(train_labels))} abnormal signals, \\\n",
    "    while test set has {len(test_files)} signals including {int(sum(test_labels))} abnormal signals.\"\n",
    ")"
   ]
  },
  {
   "cell_type": "code",
   "execution_count": 23,
   "id": "9dd514d6-75e7-4199-8d90-3611f8f79934",
   "metadata": {},
   "outputs": [],
   "source": [
    "dataset = {\n",
    "    \"train_files\": train_files,\n",
    "    \"test_files\": test_files,\n",
    "    \"train_labels\": train_labels,\n",
    "    \"test_labels\": test_labels,\n",
    "}\n",
    "\n",
    "for key, values in dataset.items():\n",
    "    file_name = os.path.join(DATA_PATH, \"dataset\", key + SUFFIX + \".txt\")\n",
    "    with open(file_name, \"w\") as f:\n",
    "        for item in values:\n",
    "            f.write(str(item) + \"\\n\")"
   ]
  },
  {
   "cell_type": "code",
   "execution_count": 24,
   "id": "06251cae-d042-44cb-9590-eb71052a5a7f",
   "metadata": {},
   "outputs": [
    {
     "name": "stdout",
     "output_type": "stream",
     "text": [
      "Train data already exists, loading from file...\n",
      "Train data has a (810507, 320) shape.\n"
     ]
    }
   ],
   "source": [
    "n_fft = 2048\n",
    "hop_length = 512\n",
    "n_mels = 64\n",
    "frames = 5\n",
    "\n",
    "train_data_path = os.path.join(DATA_PATH, \"dataset\", \"train_data\" + SUFFIX + \".pkl\")\n",
    "\n",
    "if os.path.exists(train_data_path):\n",
    "    print(\"Train data already exists, loading from file...\")\n",
    "    train_data = load_pickle(train_data_path)\n",
    "\n",
    "else:\n",
    "    train_data = generate_dataset(\n",
    "        train_files, n_fft=n_fft, hop_length=hop_length, n_mels=n_mels, frames=frames\n",
    "    )\n",
    "    print(\"Saving train data to disk...\")\n",
    "    dump_pickle(train_data_path, train_data)\n",
    "    print(\"Done.\")\n",
    "\n",
    "print(f\"Train data has a {train_data.shape} shape.\")"
   ]
  },
  {
   "cell_type": "markdown",
   "id": "6cfa3e40-6238-4a80-949a-d25f11c7c737",
   "metadata": {},
   "source": [
    "# Model Training and Prediction with AutoEncoder"
   ]
  },
  {
   "cell_type": "code",
   "execution_count": 25,
   "id": "d2c0bfa5-09cd-4a5c-930a-bfca91ed7143",
   "metadata": {},
   "outputs": [],
   "source": [
    "def autoencoder(input_dims, model_name=None):\n",
    "    input_layer = Input(shape=(input_dims,))\n",
    "    output = Dense(64, activation=\"relu\")(input_layer)\n",
    "    output = Dense(64, activation=\"relu\")(output)\n",
    "    output = Dense(8, activation=\"relu\")(output)\n",
    "    output = Dense(64, activation=\"relu\")(output)\n",
    "    output = Dense(64, activation=\"relu\")(output)\n",
    "    output = Dense(input_dims, activation=None)(output)\n",
    "\n",
    "    return Model(inputs=input_layer, outputs=output, name=model_name)"
   ]
  },
  {
   "cell_type": "code",
   "execution_count": 26,
   "id": "65806b41-edab-496a-94b2-abcf5c9b20e3",
   "metadata": {},
   "outputs": [
    {
     "name": "stdout",
     "output_type": "stream",
     "text": [
      "Model: \"AutoEncoder\"\n",
      "_________________________________________________________________\n",
      "Layer (type)                 Output Shape              Param #   \n",
      "=================================================================\n",
      "input_2 (InputLayer)         [(None, 320)]             0         \n",
      "_________________________________________________________________\n",
      "dense_6 (Dense)              (None, 64)                20544     \n",
      "_________________________________________________________________\n",
      "dense_7 (Dense)              (None, 64)                4160      \n",
      "_________________________________________________________________\n",
      "dense_8 (Dense)              (None, 8)                 520       \n",
      "_________________________________________________________________\n",
      "dense_9 (Dense)              (None, 64)                576       \n",
      "_________________________________________________________________\n",
      "dense_10 (Dense)             (None, 64)                4160      \n",
      "_________________________________________________________________\n",
      "dense_11 (Dense)             (None, 320)               20800     \n",
      "=================================================================\n",
      "Total params: 50,760\n",
      "Trainable params: 50,760\n",
      "Non-trainable params: 0\n",
      "_________________________________________________________________\n",
      "None\n"
     ]
    }
   ],
   "source": [
    "MODEL_NAME = \"AutoEncoder\"\n",
    "model = autoencoder(n_mels * frames, model_name=MODEL_NAME)\n",
    "print(model.summary())\n",
    "\n",
    "gpu_count = len(get_available_gpus())\n",
    "if gpu_count > 1:\n",
    "    model = multi_gpu_model(model, gpus=gpu_count)"
   ]
  },
  {
   "cell_type": "code",
   "execution_count": 27,
   "id": "0fe1f5bb-828e-406f-97de-9a2933417d69",
   "metadata": {},
   "outputs": [
    {
     "name": "stdout",
     "output_type": "stream",
     "text": [
      "Wall time: 10min 28s\n"
     ]
    }
   ],
   "source": [
    "%%time\n",
    "batch_size = 1024\n",
    "epochs = 400\n",
    "\n",
    "model.compile(\n",
    "    optimizer=Adam(learning_rate=1e-03),\n",
    "    loss=\"mean_squared_error\"\n",
    ")\n",
    "\n",
    "history = model.fit(\n",
    "    train_data,\n",
    "    train_data,\n",
    "    batch_size=batch_size,\n",
    "    epochs=epochs,\n",
    "    verbose=False,\n",
    "    callbacks=[EarlyStopping(monitor=\"val_loss\", patience=10)],\n",
    "    validation_split=0.1,\n",
    "    shuffle=True\n",
    ")\n",
    "\n",
    "model.save(os.path.join(MODEL_PATH, MODEL_NAME + SUFFIX + \".h5\"))"
   ]
  },
  {
   "cell_type": "code",
   "execution_count": 28,
   "id": "efec0991-d2b9-4369-8e2d-1bd2ecd3bbef",
   "metadata": {},
   "outputs": [
    {
     "data": {
      "text/html": [
       "\n",
       "\n",
       "\n",
       "\n",
       "\n",
       "\n",
       "  <div class=\"bk-root\" id=\"aad82ae5-e627-49a9-a34c-aad66225fe29\" data-root-id=\"1244\"></div>\n"
      ]
     },
     "metadata": {},
     "output_type": "display_data"
    },
    {
     "data": {
      "application/javascript": [
       "(function(root) {\n",
       "  function embed_document(root) {\n",
       "    \n",
       "  var docs_json = {\"fe8b47f7-2ced-4a5a-a2ea-0753986a8141\":{\"defs\":[],\"roots\":{\"references\":[{\"attributes\":{\"below\":[{\"id\":\"1255\"}],\"center\":[{\"id\":\"1258\"},{\"id\":\"1262\"},{\"id\":\"1293\"}],\"height\":400,\"left\":[{\"id\":\"1259\"}],\"renderers\":[{\"id\":\"1281\"},{\"id\":\"1298\"}],\"title\":{\"id\":\"1245\"},\"toolbar\":{\"id\":\"1270\"},\"x_range\":{\"id\":\"1247\"},\"x_scale\":{\"id\":\"1251\"},\"y_range\":{\"id\":\"1249\"},\"y_scale\":{\"id\":\"1253\"}},\"id\":\"1244\",\"subtype\":\"Figure\",\"type\":\"Plot\"},{\"attributes\":{},\"id\":\"1251\",\"type\":\"LinearScale\"},{\"attributes\":{\"bottom_units\":\"screen\",\"fill_alpha\":0.5,\"fill_color\":\"lightgrey\",\"left_units\":\"screen\",\"level\":\"overlay\",\"line_alpha\":1.0,\"line_color\":\"black\",\"line_dash\":[4,4],\"line_width\":2,\"right_units\":\"screen\",\"syncable\":false,\"top_units\":\"screen\"},\"id\":\"1269\",\"type\":\"BoxAnnotation\"},{\"attributes\":{\"data_source\":{\"id\":\"1277\"},\"glyph\":{\"id\":\"1296\"},\"hover_glyph\":null,\"muted_glyph\":null,\"nonselection_glyph\":{\"id\":\"1297\"},\"view\":{\"id\":\"1299\"}},\"id\":\"1298\",\"type\":\"GlyphRenderer\"},{\"attributes\":{\"label\":{\"value\":\"Validation Loss\"},\"renderers\":[{\"id\":\"1298\"}]},\"id\":\"1310\",\"type\":\"LegendItem\"},{\"attributes\":{\"overlay\":{\"id\":\"1269\"}},\"id\":\"1265\",\"type\":\"BoxZoomTool\"},{\"attributes\":{\"align\":\"center\",\"text\":\"AutoEncoder: Loss per Epoch\",\"text_font_size\":\"12pt\"},\"id\":\"1245\",\"type\":\"Title\"},{\"attributes\":{},\"id\":\"1285\",\"type\":\"AllLabels\"},{\"attributes\":{},\"id\":\"1249\",\"type\":\"DataRange1d\"},{\"attributes\":{\"source\":{\"id\":\"1277\"}},\"id\":\"1299\",\"type\":\"CDSView\"},{\"attributes\":{\"data_source\":{\"id\":\"1277\"},\"glyph\":{\"id\":\"1279\"},\"hover_glyph\":null,\"muted_glyph\":null,\"nonselection_glyph\":{\"id\":\"1280\"},\"view\":{\"id\":\"1282\"}},\"id\":\"1281\",\"type\":\"GlyphRenderer\"},{\"attributes\":{\"line_color\":\"coral\",\"line_width\":1.5,\"x\":{\"field\":\"index\"},\"y\":{\"field\":\"val_loss\"}},\"id\":\"1296\",\"type\":\"Line\"},{\"attributes\":{\"data\":{\"index\":[0,1,2,3,4,5,6,7,8,9,10,11,12,13,14,15,16,17,18,19,20,21,22,23,24,25,26,27,28,29,30,31,32,33,34,35,36,37,38,39,40,41,42,43,44,45,46,47,48,49,50,51,52,53,54,55,56,57,58,59,60,61,62,63,64,65,66,67,68,69,70,71,72,73,74,75,76,77,78,79,80,81,82,83,84,85],\"loss\":[24.422345650543576,8.33880291170023,7.701516204246271,7.43200397865888,7.234156632375813,6.748987538819095,6.495114975992621,6.241056782576319,6.131378133696868,6.0517987803329705,5.978199888872265,5.9061982558104145,5.834582702518071,5.772499729323504,5.722190319821106,5.678714116466683,5.575434660310689,5.327548464717164,5.248096672682383,5.19536257303699,5.15802388975545,5.128481003221041,5.102760228445315,5.080832503421432,5.0620254542037895,5.043139364638281,5.028299326425071,5.015064312851057,4.998482024410002,4.986508558639005,4.975271560804243,4.967127670149525,4.952311013063956,4.940203121259604,4.927416326027446,4.914790940314537,4.906103118017007,4.898170259845999,4.891238273655664,4.881311685276351,4.873733227927201,4.869920303894202,4.8635647610623804,4.85701262852321,4.852431612819488,4.843548266818792,4.840722532235314,4.833614988505457,4.831327528668125,4.8260393303246145,4.8214792278487515,4.8156607139369685,4.811595209896132,4.809186967732716,4.805461660454036,4.801525428503218,4.798268450671128,4.794505368175182,4.7946973260639085,4.7878879437006585,4.786585086368505,4.781407269285001,4.778359286059427,4.775588336876471,4.773280351872281,4.77007374588091,4.767575073403257,4.76744772818886,4.761759987435116,4.76076268650885,4.759637617123046,4.757813080004927,4.7565471446536876,4.750803843004961,4.750245825206976,4.748913080473541,4.746984652575935,4.743525586342958,4.739874760116363,4.737894323949389,4.73273833141949,4.736894746868544,4.733095226456022,4.7319056304527,4.727883635399589,4.7255448243284945],\"val_loss\":[9.217327338797817,8.130340654700484,7.7677848747932,7.465977572466411,7.255649228432585,6.5697731711822085,6.22507458951795,5.943972325660647,5.897981664191387,5.815180885536008,5.743133984306746,5.603159985032403,5.547920247977232,5.453482300681798,5.438102016440032,5.355596003883224,5.128532804923149,5.061850840913802,5.001621785189589,4.920828437745167,5.008014539912137,4.9065546241101154,4.9113356688967125,4.882639561685954,4.861001878753629,4.896546709861227,4.805357296690888,4.779495139932181,4.817533264816013,4.791332569747814,4.745293714991592,4.740239237531786,4.717214953055001,4.690247101227263,4.643399908691742,4.704071360907165,4.667513350105184,4.667734506450822,4.640908102876181,4.62633741096533,4.614696224017231,4.619393250815477,4.598344416578989,4.599830233533472,4.583376888549255,4.607421239152408,4.723380223295516,4.600765045469493,4.57538365898867,4.566796280380516,4.573552177194484,4.52512061926404,4.505344948899987,4.529719393769075,4.531604028519098,4.500860875449239,4.508458310171606,4.5566977337610375,4.5095963500679765,4.494091553325704,4.521410204351115,4.5003715083358795,4.47864567343807,4.462210501108536,4.484631953243147,4.475494485020798,4.487132533271888,4.499991903240221,4.504969322577442,4.467053088233954,4.442151331030546,4.459766556792438,4.47781536239114,4.466627284335663,4.4860207333270425,4.42230911049913,4.47589455508528,4.44129372226089,4.454818474074354,4.454975499196213,4.469262916777536,4.4292100900383,4.45956861921184,4.464539554608561,4.484939131768701,4.435913491911824]},\"selected\":{\"id\":\"1291\"},\"selection_policy\":{\"id\":\"1292\"}},\"id\":\"1277\",\"type\":\"ColumnDataSource\"},{\"attributes\":{\"axis\":{\"id\":\"1255\"},\"grid_line_color\":null,\"ticker\":null},\"id\":\"1258\",\"type\":\"Grid\"},{\"attributes\":{},\"id\":\"1253\",\"type\":\"LinearScale\"},{\"attributes\":{\"line_alpha\":0.1,\"line_color\":\"coral\",\"line_width\":1.5,\"x\":{\"field\":\"index\"},\"y\":{\"field\":\"val_loss\"}},\"id\":\"1297\",\"type\":\"Line\"},{\"attributes\":{\"axis_label\":\"# Epochs\",\"formatter\":{\"id\":\"1284\"},\"major_label_policy\":{\"id\":\"1285\"},\"ticker\":{\"id\":\"1256\"}},\"id\":\"1255\",\"type\":\"LinearAxis\"},{\"attributes\":{},\"id\":\"1264\",\"type\":\"WheelZoomTool\"},{\"attributes\":{\"active_multi\":null,\"tools\":[{\"id\":\"1263\"},{\"id\":\"1264\"},{\"id\":\"1265\"},{\"id\":\"1266\"},{\"id\":\"1267\"},{\"id\":\"1268\"},{\"id\":\"1311\"}]},\"id\":\"1270\",\"type\":\"Toolbar\"},{\"attributes\":{},\"id\":\"1256\",\"type\":\"BasicTicker\"},{\"attributes\":{\"line_alpha\":0.1,\"line_dash\":[2,4],\"x\":{\"field\":\"index\"},\"y\":{\"field\":\"loss\"}},\"id\":\"1280\",\"type\":\"Line\"},{\"attributes\":{\"line_dash\":[2,4],\"x\":{\"field\":\"index\"},\"y\":{\"field\":\"loss\"}},\"id\":\"1279\",\"type\":\"Line\"},{\"attributes\":{},\"id\":\"1268\",\"type\":\"HelpTool\"},{\"attributes\":{},\"id\":\"1287\",\"type\":\"BasicTickFormatter\"},{\"attributes\":{},\"id\":\"1291\",\"type\":\"Selection\"},{\"attributes\":{},\"id\":\"1263\",\"type\":\"PanTool\"},{\"attributes\":{},\"id\":\"1288\",\"type\":\"AllLabels\"},{\"attributes\":{\"axis_label\":\"Loss\",\"formatter\":{\"id\":\"1287\"},\"major_label_policy\":{\"id\":\"1288\"},\"ticker\":{\"id\":\"1260\"}},\"id\":\"1259\",\"type\":\"LinearAxis\"},{\"attributes\":{},\"id\":\"1266\",\"type\":\"SaveTool\"},{\"attributes\":{},\"id\":\"1284\",\"type\":\"BasicTickFormatter\"},{\"attributes\":{\"axis\":{\"id\":\"1259\"},\"dimension\":1,\"ticker\":null},\"id\":\"1262\",\"type\":\"Grid\"},{\"attributes\":{},\"id\":\"1292\",\"type\":\"UnionRenderers\"},{\"attributes\":{\"source\":{\"id\":\"1277\"}},\"id\":\"1282\",\"type\":\"CDSView\"},{\"attributes\":{},\"id\":\"1260\",\"type\":\"BasicTicker\"},{\"attributes\":{\"click_policy\":\"hide\",\"items\":[{\"id\":\"1294\"},{\"id\":\"1310\"}],\"label_text_font_size\":\"8pt\"},\"id\":\"1293\",\"type\":\"Legend\"},{\"attributes\":{},\"id\":\"1247\",\"type\":\"DataRange1d\"},{\"attributes\":{\"callback\":null,\"tooltips\":[[\"epoch\",\"@index\"],[\"training loss\",\"@loss\"],[\"validation loss\",\"@val_loss\"]]},\"id\":\"1311\",\"type\":\"HoverTool\"},{\"attributes\":{\"label\":{\"value\":\"Training Loss\"},\"renderers\":[{\"id\":\"1281\"}]},\"id\":\"1294\",\"type\":\"LegendItem\"},{\"attributes\":{},\"id\":\"1267\",\"type\":\"ResetTool\"}],\"root_ids\":[\"1244\"]},\"title\":\"Bokeh Application\",\"version\":\"2.3.3\"}};\n",
       "  var render_items = [{\"docid\":\"fe8b47f7-2ced-4a5a-a2ea-0753986a8141\",\"root_ids\":[\"1244\"],\"roots\":{\"1244\":\"aad82ae5-e627-49a9-a34c-aad66225fe29\"}}];\n",
       "  root.Bokeh.embed.embed_items_notebook(docs_json, render_items);\n",
       "\n",
       "  }\n",
       "  if (root.Bokeh !== undefined) {\n",
       "    embed_document(root);\n",
       "  } else {\n",
       "    var attempts = 0;\n",
       "    var timer = setInterval(function(root) {\n",
       "      if (root.Bokeh !== undefined) {\n",
       "        clearInterval(timer);\n",
       "        embed_document(root);\n",
       "      } else {\n",
       "        attempts++;\n",
       "        if (attempts > 100) {\n",
       "          clearInterval(timer);\n",
       "          console.log(\"Bokeh: ERROR: Unable to run BokehJS code because BokehJS library is missing\");\n",
       "        }\n",
       "      }\n",
       "    }, 10, root)\n",
       "  }\n",
       "})(window);"
      ],
      "application/vnd.bokehjs_exec.v0+json": ""
     },
     "metadata": {
      "application/vnd.bokehjs_exec.v0+json": {
       "id": "1244"
      }
     },
     "output_type": "display_data"
    }
   ],
   "source": [
    "plot_loss_per_epoch(\n",
    "    history, model_name=MODEL_NAME, file_name=os.path.join(IMAGE_PATH, \"model_loss.svg\")\n",
    ")"
   ]
  },
  {
   "cell_type": "code",
   "execution_count": 29,
   "id": "8c503335-ed82-468a-89d7-1ca6cc0abe59",
   "metadata": {},
   "outputs": [
    {
     "data": {
      "application/vnd.jupyter.widget-view+json": {
       "model_id": "140a17328c7f4cf7b081d31868dbf2af",
       "version_major": 2,
       "version_minor": 0
      },
      "text/plain": [
       "  0%|          | 0/1582 [00:00<?, ?it/s]"
      ]
     },
     "metadata": {},
     "output_type": "display_data"
    }
   ],
   "source": [
    "recon_errors = []\n",
    "\n",
    "for index in tqdm(range(len(test_files))):\n",
    "    signal, sr = load_sound_file(test_files[index])\n",
    "\n",
    "    features = extract_signal_features(\n",
    "        signal, sr, n_fft=n_fft, hop_length=hop_length, n_mels=n_mels, frames=frames\n",
    "    )\n",
    "\n",
    "    predictions = model.predict(features)\n",
    "    mse = np.mean(np.mean(np.square(features - predictions), axis=1))\n",
    "    recon_errors.append(mse)"
   ]
  },
  {
   "cell_type": "markdown",
   "id": "615c6e87-716e-4543-9c08-b93338ac35c7",
   "metadata": {},
   "source": [
    "# Model Evaluation"
   ]
  },
  {
   "cell_type": "code",
   "execution_count": 30,
   "id": "f923d9e7-6b08-4719-b6c2-3419ee0e7546",
   "metadata": {},
   "outputs": [
    {
     "data": {
      "text/html": [
       "\n",
       "\n",
       "\n",
       "\n",
       "\n",
       "\n",
       "  <div class=\"bk-root\" id=\"37f672df-e6b1-45fc-9e67-ea92015ba5f9\" data-root-id=\"1494\"></div>\n"
      ]
     },
     "metadata": {},
     "output_type": "display_data"
    },
    {
     "data": {
      "application/javascript": [
       "(function(root) {\n",
       "  function embed_document(root) {\n",
       "    \n",
       "  var docs_json = {\"613175fb-1495-4019-8e99-a01986613734\":{\"defs\":[],\"roots\":{\"references\":[{\"attributes\":{\"below\":[{\"id\":\"1505\"}],\"center\":[{\"id\":\"1508\"},{\"id\":\"1512\"},{\"id\":\"1544\"}],\"height\":400,\"left\":[{\"id\":\"1509\"}],\"renderers\":[{\"id\":\"1532\"},{\"id\":\"1551\"}],\"title\":{\"id\":\"1495\"},\"toolbar\":{\"id\":\"1520\"},\"x_range\":{\"id\":\"1497\"},\"x_scale\":{\"id\":\"1501\"},\"y_range\":{\"id\":\"1499\"},\"y_scale\":{\"id\":\"1503\"}},\"id\":\"1494\",\"subtype\":\"Figure\",\"type\":\"Plot\"},{\"attributes\":{\"bottom\":{\"value\":0.0},\"fill_alpha\":{\"value\":0.1},\"fill_color\":{\"value\":\"indigo\"},\"left\":{\"field\":\"left\"},\"line_alpha\":{\"value\":0.1},\"line_color\":{\"value\":null},\"right\":{\"field\":\"right\"},\"top\":{\"field\":\"percent\"}},\"id\":\"1549\",\"type\":\"Quad\"},{\"attributes\":{\"bottom\":{\"value\":0.0},\"fill_alpha\":{\"field\":\"alpha\"},\"fill_color\":{\"value\":\"indigo\"},\"left\":{\"field\":\"left\"},\"line_color\":{\"value\":null},\"right\":{\"field\":\"right\"},\"top\":{\"field\":\"percent\"}},\"id\":\"1548\",\"type\":\"Quad\"},{\"attributes\":{},\"id\":\"1514\",\"type\":\"WheelZoomTool\"},{\"attributes\":{\"data\":{\"alpha\":{\"__ndarray__\":\"/usji/rD4z+RO48ns7LlP/vIov7wWuA/Un94LfR92T+TVKL5uf3WP8qsbKtdBtY/jhPXPag61T8BBTddAQ/VP+fn9puzt9Q/5+f2m7O31D/eiOGwmZrUP96I4bCZmtQ/Yjhspiap1D/eiOGwmZrUP2I4bKYmqdQ/3ojhsJma1D/eiOGwmZrUP96I4bCZmtQ/3ojhsJma1D9iOGymJqnUPw==\",\"dtype\":\"float64\",\"order\":\"little\",\"shape\":[20]},\"count\":[333,401,213,86,42,25,11,8,2,2,0,0,1,0,1,0,0,0,0,1],\"interval\":[\"2.56 to 3.79\",\"3.79 to 5.01\",\"5.01 to 6.23\",\"6.23 to 7.46\",\"7.46 to 8.68\",\"8.68 to 9.90\",\"9.90 to 11.13\",\"11.13 to 12.35\",\"12.35 to 13.58\",\"13.58 to 14.80\",\"14.80 to 16.02\",\"16.02 to 17.25\",\"17.25 to 18.47\",\"18.47 to 19.69\",\"19.69 to 20.92\",\"20.92 to 22.14\",\"22.14 to 23.37\",\"23.37 to 24.59\",\"24.59 to 25.81\",\"25.81 to 27.04\"],\"left\":{\"__ndarray__\":\"AAAAYCaABECamZmBR0oOQJqZmVE0ChRAZmZm4kTvGEAzMzNzVdQdQAAAAAKzXCFAZmZmSjvPI0DNzMySw0EmQDMzM9tLtChAmZmZI9QmK0AAAABsXJktQDMzM1ryBTBAZmZmfjY/MUCamZmiengyQM3MzMa+sTNAAAAA6wLrNEAzMzMPRyQ2QGZmZjOLXTdAmZmZV8+WOEDNzMx7E9A5QA==\",\"dtype\":\"float64\",\"order\":\"little\",\"shape\":[20]},\"percent\":[0.29573712255772644,0.3561278863232682,0.1891651865008881,0.0763765541740675,0.037300177619893425,0.022202486678507993,0.009769094138543518,0.007104795737122558,0.0017761989342806395,0.0017761989342806395,0.0,0.0,0.0008880994671403197,0.0,0.0008880994671403197,0.0,0.0,0.0,0.0,0.0008880994671403197],\"right\":{\"__ndarray__\":\"mpmZgUdKDkCamZlRNAoUQGZmZuJE7xhAMzMzc1XUHUAAAAACs1whQGZmZko7zyNAzczMksNBJkAzMzPbS7QoQJmZmSPUJitAAAAAbFyZLUAzMzNa8gUwQGZmZn42PzFAmpmZonp4MkDNzMzGvrEzQAAAAOsC6zRAMzMzD0ckNkBmZmYzi103QJmZmVfPljhAzczMexPQOUAAAACgVwk7QA==\",\"dtype\":\"float64\",\"order\":\"little\",\"shape\":[20]}},\"selected\":{\"id\":\"1542\"},\"selection_policy\":{\"id\":\"1543\"}},\"id\":\"1527\",\"type\":\"ColumnDataSource\"},{\"attributes\":{\"data\":{\"alpha\":{\"__ndarray__\":\"xnQW01lM4T+ivIbyGsrhP6azmM5iOuE/IMF9BPcR4j/gPoL7CO7hP2wor6G8huA/DeU1lNdQ4D/uI7iP4D7gP2wor6G8ht4/dRbTWUxn3T91FtNZTGfdP7SYzmI6i90/+wjuI7iP3D95DeU1lNfcPwAAAAAAANw/+wjuI7iP3D9+BPcR3EfcPz+C+wjuI9w/vIbyGspr3D8AAAAAAADcPwAAAAAAANw/P4L7CO4j3D8AAAAAAADcP8F9BPcR3Ns/wX0E9xHc2z/BfQT3EdzbP8F9BPcR3Ns/wX0E9xHc2z/BfQT3EdzbPwAAAAAAANw/\",\"dtype\":\"float64\",\"order\":\"little\",\"shape\":[30]},\"count\":[48,55,47,59,57,37,34,33,19,11,11,12,5,7,1,5,3,2,4,1,1,2,1,0,0,0,0,0,0,1],\"interval\":[\"2.66 to 3.39\",\"3.39 to 4.11\",\"4.11 to 4.84\",\"4.84 to 5.57\",\"5.57 to 6.30\",\"6.30 to 7.03\",\"7.03 to 7.76\",\"7.76 to 8.48\",\"8.48 to 9.21\",\"9.21 to 9.94\",\"9.94 to 10.67\",\"10.67 to 11.40\",\"11.40 to 12.13\",\"12.13 to 12.85\",\"12.85 to 13.58\",\"13.58 to 14.31\",\"14.31 to 15.04\",\"15.04 to 15.77\",\"15.77 to 16.50\",\"16.50 to 17.22\",\"17.22 to 17.95\",\"17.95 to 18.68\",\"18.68 to 19.41\",\"19.41 to 20.14\",\"20.14 to 20.87\",\"20.87 to 21.60\",\"21.60 to 22.32\",\"22.32 to 23.05\",\"23.05 to 23.78\",\"23.78 to 24.51\"],\"left\":{\"__ndarray__\":\"AAAAAAFBBUBVVVVVyhQLQFVVVdVJdBBAAAAAgC5eE0CqqqoqE0gWQFVVVdX3MRlAAAAAgNwbHECqqqoqwQUfQKqqqurS9yBAAAAAQMVsIkBVVVWVt+EjQKqqquqpViVAAAAAQJzLJkBVVVWVjkAoQKqqquqAtSlAAAAAQHMqK0BVVVWVZZ8sQKqqqupXFC5AAAAAQEqJL0CqqqpKHn8wQFVVVXWXOTFAAAAAoBD0MUCqqqrKia4yQFVVVfUCaTNAAAAAIHwjNECqqqpK9d00QFVVVXVumDVAAAAAoOdSNkCqqqrKYA03QFVVVfXZxzdA\",\"dtype\":\"float64\",\"order\":\"little\",\"shape\":[30]},\"percent\":[0.10526315789473684,0.1206140350877193,0.10307017543859649,0.12938596491228072,0.125,0.08114035087719298,0.07456140350877193,0.07236842105263158,0.041666666666666664,0.02412280701754386,0.02412280701754386,0.02631578947368421,0.010964912280701754,0.015350877192982455,0.0021929824561403508,0.010964912280701754,0.006578947368421052,0.0043859649122807015,0.008771929824561403,0.0021929824561403508,0.0021929824561403508,0.0043859649122807015,0.0021929824561403508,0.0,0.0,0.0,0.0,0.0,0.0,0.0021929824561403508],\"right\":{\"__ndarray__\":\"VVVVVcoUC0BVVVXVSXQQQAAAAIAuXhNAqqqqKhNIFkBVVVXV9zEZQAAAAIDcGxxAqqqqKsEFH0Cqqqrq0vcgQAAAAEDFbCJAVVVVlbfhI0CqqqrqqVYlQAAAAECcyyZAVVVVlY5AKECqqqrqgLUpQAAAAEBzKitAVVVVlWWfLECqqqrqVxQuQAAAAEBKiS9AqqqqSh5/MEBVVVV1lzkxQAAAAKAQ9DFAqqqqyomuMkBVVVX1AmkzQAAAACB8IzRAqqqqSvXdNEBVVVV1bpg1QAAAAKDnUjZAqqqqymANN0BVVVX12cc3QAAAACBTgjhA\",\"dtype\":\"float64\",\"order\":\"little\",\"shape\":[30]}},\"selected\":{\"id\":\"1563\"},\"selection_policy\":{\"id\":\"1564\"}},\"id\":\"1546\",\"type\":\"ColumnDataSource\"},{\"attributes\":{},\"id\":\"1501\",\"type\":\"LinearScale\"},{\"attributes\":{\"bottom\":{\"value\":0.0},\"fill_alpha\":{\"value\":0.1},\"fill_color\":{\"value\":\"crimson\"},\"left\":{\"field\":\"left\"},\"line_alpha\":{\"value\":0.1},\"line_color\":{\"value\":null},\"right\":{\"field\":\"right\"},\"top\":{\"field\":\"percent\"}},\"id\":\"1530\",\"type\":\"Quad\"},{\"attributes\":{},\"id\":\"1563\",\"type\":\"Selection\"},{\"attributes\":{\"format\":\"0 %\"},\"id\":\"1566\",\"type\":\"NumeralTickFormatter\"},{\"attributes\":{\"callback\":null,\"tooltips\":[[\"interval\",\"@interval\"],[\"count\",\"@count\"],[\"percent\",\"@percent\"]]},\"id\":\"1568\",\"type\":\"HoverTool\"},{\"attributes\":{},\"id\":\"1510\",\"type\":\"BasicTicker\"},{\"attributes\":{\"bottom_units\":\"screen\",\"fill_alpha\":0.5,\"fill_color\":\"lightgrey\",\"left_units\":\"screen\",\"level\":\"overlay\",\"line_alpha\":1.0,\"line_color\":\"black\",\"line_dash\":[4,4],\"line_width\":2,\"right_units\":\"screen\",\"syncable\":false,\"top_units\":\"screen\"},\"id\":\"1519\",\"type\":\"BoxAnnotation\"},{\"attributes\":{},\"id\":\"1516\",\"type\":\"SaveTool\"},{\"attributes\":{},\"id\":\"1517\",\"type\":\"ResetTool\"},{\"attributes\":{},\"id\":\"1503\",\"type\":\"LinearScale\"},{\"attributes\":{\"bottom\":{\"value\":0.0},\"fill_color\":{\"value\":\"tan\"},\"left\":{\"field\":\"left\"},\"line_color\":{\"value\":null},\"right\":{\"field\":\"right\"},\"top\":{\"field\":\"percent\"}},\"id\":\"1531\",\"type\":\"Quad\"},{\"attributes\":{},\"id\":\"1539\",\"type\":\"AllLabels\"},{\"attributes\":{},\"id\":\"1536\",\"type\":\"AllLabels\"},{\"attributes\":{},\"id\":\"1542\",\"type\":\"Selection\"},{\"attributes\":{\"align\":\"center\",\"text\":\"AutoEncoder: Prediction Score Histogram by Class\",\"text_font_size\":\"12pt\"},\"id\":\"1495\",\"type\":\"Title\"},{\"attributes\":{\"click_policy\":\"hide\",\"items\":[{\"id\":\"1545\"},{\"id\":\"1565\"}],\"label_text_font_size\":\"8pt\"},\"id\":\"1544\",\"type\":\"Legend\"},{\"attributes\":{\"overlay\":{\"id\":\"1519\"}},\"id\":\"1515\",\"type\":\"BoxZoomTool\"},{\"attributes\":{},\"id\":\"1497\",\"type\":\"DataRange1d\"},{\"attributes\":{\"axis_label\":\"# Samples\",\"formatter\":{\"id\":\"1566\"},\"major_label_policy\":{\"id\":\"1539\"},\"ticker\":{\"id\":\"1510\"}},\"id\":\"1509\",\"type\":\"LinearAxis\"},{\"attributes\":{\"active_multi\":null,\"tools\":[{\"id\":\"1513\"},{\"id\":\"1514\"},{\"id\":\"1515\"},{\"id\":\"1516\"},{\"id\":\"1517\"},{\"id\":\"1518\"},{\"id\":\"1568\"}]},\"id\":\"1520\",\"type\":\"Toolbar\"},{\"attributes\":{},\"id\":\"1535\",\"type\":\"BasicTickFormatter\"},{\"attributes\":{},\"id\":\"1564\",\"type\":\"UnionRenderers\"},{\"attributes\":{},\"id\":\"1506\",\"type\":\"BasicTicker\"},{\"attributes\":{\"axis\":{\"id\":\"1509\"},\"dimension\":1,\"ticker\":null},\"id\":\"1512\",\"type\":\"Grid\"},{\"attributes\":{\"start\":0.0},\"id\":\"1499\",\"type\":\"DataRange1d\"},{\"attributes\":{\"data_source\":{\"id\":\"1527\"},\"glyph\":{\"id\":\"1529\"},\"hover_glyph\":{\"id\":\"1531\"},\"muted_glyph\":null,\"nonselection_glyph\":{\"id\":\"1530\"},\"view\":{\"id\":\"1533\"}},\"id\":\"1532\",\"type\":\"GlyphRenderer\"},{\"attributes\":{},\"id\":\"1513\",\"type\":\"PanTool\"},{\"attributes\":{},\"id\":\"1543\",\"type\":\"UnionRenderers\"},{\"attributes\":{\"axis\":{\"id\":\"1505\"},\"ticker\":null},\"id\":\"1508\",\"type\":\"Grid\"},{\"attributes\":{\"axis_label\":\"Prediction Score\",\"formatter\":{\"id\":\"1535\"},\"major_label_policy\":{\"id\":\"1536\"},\"ticker\":{\"id\":\"1506\"}},\"id\":\"1505\",\"type\":\"LinearAxis\"},{\"attributes\":{\"label\":{\"value\":\"False\"},\"renderers\":[{\"id\":\"1532\"}]},\"id\":\"1545\",\"type\":\"LegendItem\"},{\"attributes\":{\"data_source\":{\"id\":\"1546\"},\"glyph\":{\"id\":\"1548\"},\"hover_glyph\":{\"id\":\"1550\"},\"muted_glyph\":null,\"nonselection_glyph\":{\"id\":\"1549\"},\"view\":{\"id\":\"1552\"}},\"id\":\"1551\",\"type\":\"GlyphRenderer\"},{\"attributes\":{},\"id\":\"1518\",\"type\":\"HelpTool\"},{\"attributes\":{\"bottom\":{\"value\":0.0},\"fill_alpha\":{\"field\":\"alpha\"},\"fill_color\":{\"value\":\"crimson\"},\"left\":{\"field\":\"left\"},\"line_color\":{\"value\":null},\"right\":{\"field\":\"right\"},\"top\":{\"field\":\"percent\"}},\"id\":\"1529\",\"type\":\"Quad\"},{\"attributes\":{\"source\":{\"id\":\"1527\"}},\"id\":\"1533\",\"type\":\"CDSView\"},{\"attributes\":{\"bottom\":{\"value\":0.0},\"fill_color\":{\"value\":\"tan\"},\"left\":{\"field\":\"left\"},\"line_color\":{\"value\":null},\"right\":{\"field\":\"right\"},\"top\":{\"field\":\"percent\"}},\"id\":\"1550\",\"type\":\"Quad\"},{\"attributes\":{\"source\":{\"id\":\"1546\"}},\"id\":\"1552\",\"type\":\"CDSView\"},{\"attributes\":{\"label\":{\"value\":\"True\"},\"renderers\":[{\"id\":\"1551\"}]},\"id\":\"1565\",\"type\":\"LegendItem\"}],\"root_ids\":[\"1494\"]},\"title\":\"Bokeh Application\",\"version\":\"2.3.3\"}};\n",
       "  var render_items = [{\"docid\":\"613175fb-1495-4019-8e99-a01986613734\",\"root_ids\":[\"1494\"],\"roots\":{\"1494\":\"37f672df-e6b1-45fc-9e67-ea92015ba5f9\"}}];\n",
       "  root.Bokeh.embed.embed_items_notebook(docs_json, render_items);\n",
       "\n",
       "  }\n",
       "  if (root.Bokeh !== undefined) {\n",
       "    embed_document(root);\n",
       "  } else {\n",
       "    var attempts = 0;\n",
       "    var timer = setInterval(function(root) {\n",
       "      if (root.Bokeh !== undefined) {\n",
       "        clearInterval(timer);\n",
       "        embed_document(root);\n",
       "      } else {\n",
       "        attempts++;\n",
       "        if (attempts > 100) {\n",
       "          clearInterval(timer);\n",
       "          console.log(\"Bokeh: ERROR: Unable to run BokehJS code because BokehJS library is missing\");\n",
       "        }\n",
       "      }\n",
       "    }, 10, root)\n",
       "  }\n",
       "})(window);"
      ],
      "application/vnd.bokehjs_exec.v0+json": ""
     },
     "metadata": {
      "application/vnd.bokehjs_exec.v0+json": {
       "id": "1494"
      }
     },
     "output_type": "display_data"
    }
   ],
   "source": [
    "stack = np.column_stack((range(len(recon_errors)), recon_errors))\n",
    "score_false = stack[test_labels == 0][:, 1]\n",
    "score_true = stack[test_labels == 1][:, 1]\n",
    "\n",
    "plot_histogram_by_class(\n",
    "    score_false,\n",
    "    score_true,\n",
    "    bins=[20, 30],\n",
    "    model_name=MODEL_NAME,\n",
    "    file_name=os.path.join(IMAGE_PATH, \"recon_error_dist.svg\"),\n",
    ")"
   ]
  },
  {
   "cell_type": "code",
   "execution_count": 34,
   "id": "87cab09b-1956-45a2-8340-c7e6da5ca53c",
   "metadata": {},
   "outputs": [
    {
     "data": {
      "text/html": [
       "\n",
       "\n",
       "\n",
       "\n",
       "\n",
       "\n",
       "  <div class=\"bk-root\" id=\"e4377af6-518c-4980-bc99-82379f2ec537\" data-root-id=\"2381\"></div>\n"
      ]
     },
     "metadata": {},
     "output_type": "display_data"
    },
    {
     "data": {
      "application/javascript": [
       "(function(root) {\n",
       "  function embed_document(root) {\n",
       "    \n",
       "  var docs_json = {\"e66f7df2-6600-41d6-a661-040309353948\":{\"defs\":[],\"roots\":{\"references\":[{\"attributes\":{\"below\":[{\"id\":\"2392\"}],\"center\":[{\"id\":\"2395\"},{\"id\":\"2399\"},{\"id\":\"2430\"},{\"id\":\"2452\"}],\"height\":400,\"left\":[{\"id\":\"2396\"}],\"renderers\":[{\"id\":\"2418\"},{\"id\":\"2436\"}],\"title\":{\"id\":\"2382\"},\"toolbar\":{\"id\":\"2407\"},\"x_range\":{\"id\":\"2384\"},\"x_scale\":{\"id\":\"2388\"},\"y_range\":{\"id\":\"2386\"},\"y_scale\":{\"id\":\"2390\"}},\"id\":\"2381\",\"subtype\":\"Figure\",\"type\":\"Plot\"},{\"attributes\":{\"active_multi\":null,\"tools\":[{\"id\":\"2400\"},{\"id\":\"2401\"},{\"id\":\"2402\"},{\"id\":\"2403\"},{\"id\":\"2404\"},{\"id\":\"2405\"},{\"id\":\"2453\"}]},\"id\":\"2407\",\"type\":\"Toolbar\"},{\"attributes\":{},\"id\":\"2428\",\"type\":\"Selection\"},{\"attributes\":{\"callback\":null,\"tooltips\":[[\"index\",\"@index\"],[\"error\",\"@error\"]]},\"id\":\"2453\",\"type\":\"HoverTool\"},{\"attributes\":{\"align\":\"center\",\"text\":\"AutoEncoder: Threshold Range Exploration\",\"text_font_size\":\"12pt\"},\"id\":\"2382\",\"type\":\"Title\"},{\"attributes\":{},\"id\":\"2429\",\"type\":\"UnionRenderers\"},{\"attributes\":{\"axis\":{\"id\":\"2392\"},\"ticker\":null},\"id\":\"2395\",\"type\":\"Grid\"},{\"attributes\":{\"items\":[{\"id\":\"2431\"},{\"id\":\"2450\"}],\"label_text_font_size\":\"8pt\"},\"id\":\"2430\",\"type\":\"Legend\"},{\"attributes\":{\"bottom_units\":\"screen\",\"fill_alpha\":0.5,\"fill_color\":\"lightgrey\",\"left_units\":\"screen\",\"level\":\"overlay\",\"line_alpha\":1.0,\"line_color\":\"black\",\"line_dash\":[4,4],\"line_width\":2,\"right_units\":\"screen\",\"syncable\":false,\"top_units\":\"screen\"},\"id\":\"2406\",\"type\":\"BoxAnnotation\"},{\"attributes\":{\"data\":{\"error\":{\"__ndarray__\":\"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\",\"dtype\":\"float64\",\"order\":\"little\",\"shape\":[1126]},\"index\":{\"__ndarray__\":\"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\",\"dtype\":\"float64\",\"order\":\"little\",\"shape\":[1126]}},\"selected\":{\"id\":\"2428\"},\"selection_policy\":{\"id\":\"2429\"}},\"id\":\"2414\",\"type\":\"ColumnDataSource\"},{\"attributes\":{\"label\":{\"value\":\"Normal Signals\"},\"renderers\":[{\"id\":\"2418\"}]},\"id\":\"2431\",\"type\":\"LegendItem\"},{\"attributes\":{\"bottom\":2.0,\"fill_alpha\":0.1,\"fill_color\":\"magenta\",\"line_color\":\"darkmagenta\",\"top\":7.0},\"id\":\"2452\",\"type\":\"BoxAnnotation\"},{\"attributes\":{},\"id\":\"2384\",\"type\":\"DataRange1d\"},{\"attributes\":{},\"id\":\"2386\",\"type\":\"DataRange1d\"},{\"attributes\":{\"axis_label\":\"Samples\",\"formatter\":{\"id\":\"2421\"},\"major_label_policy\":{\"id\":\"2422\"},\"ticker\":{\"id\":\"2393\"}},\"id\":\"2392\",\"type\":\"LinearAxis\"},{\"attributes\":{},\"id\":\"2390\",\"type\":\"LinearScale\"},{\"attributes\":{},\"id\":\"2397\",\"type\":\"BasicTicker\"},{\"attributes\":{\"fill_alpha\":{\"value\":0.1},\"fill_color\":{\"value\":\"indigo\"},\"line_alpha\":{\"value\":0.1},\"line_color\":{\"value\":null},\"x\":{\"field\":\"index\"},\"y\":{\"field\":\"error\"}},\"id\":\"2435\",\"type\":\"Scatter\"},{\"attributes\":{},\"id\":\"2388\",\"type\":\"LinearScale\"},{\"attributes\":{\"source\":{\"id\":\"2432\"}},\"id\":\"2437\",\"type\":\"CDSView\"},{\"attributes\":{},\"id\":\"2424\",\"type\":\"BasicTickFormatter\"},{\"attributes\":{},\"id\":\"2393\",\"type\":\"BasicTicker\"},{\"attributes\":{},\"id\":\"2448\",\"type\":\"Selection\"},{\"attributes\":{\"fill_alpha\":{\"value\":0.6},\"fill_color\":{\"value\":\"indigo\"},\"line_color\":{\"value\":null},\"x\":{\"field\":\"index\"},\"y\":{\"field\":\"error\"}},\"id\":\"2434\",\"type\":\"Scatter\"},{\"attributes\":{\"data_source\":{\"id\":\"2432\"},\"glyph\":{\"id\":\"2434\"},\"hover_glyph\":null,\"muted_glyph\":null,\"nonselection_glyph\":{\"id\":\"2435\"},\"view\":{\"id\":\"2437\"}},\"id\":\"2436\",\"type\":\"GlyphRenderer\"},{\"attributes\":{\"data\":{\"error\":{\"__ndarray__\":\"AAAAgHYsD0AAAACgWNIVQAAAAMAgtAlAAAAAwI4ECEAAAACgAd8VQAAAAKAqVhtAAAAAYCPNIEAAAABglWEVQAAAAGBRvRVAAAAAgJ4vIkAAAAAA7V0fQAAAAODIbh5AAAAAIKJTC0AAAADAaPMHQAAAAACr4RRAAAAAgCs7IEAAAACgqMIPQAAAAKDeKiRAAAAAQAugEkAAAACg0bEcQAAAAID2XiFAAAAAQBnBH0AAAABg7AMZQAAAACAyYxRAAAAAYIMHIUAAAABgrtsdQAAAAODLzBhAAAAAgKrKDUAAAABAQuUaQAAAAGCzlCdAAAAAoHA2IEAAAABg5PgQQAAAAEDXlxdAAAAAQDczHkAAAACAyWsPQAAAAACXSyBAAAAAIP0QGEAAAABgd6EYQAAAAGBjKBdAAAAAoK34H0AAAAAAnHwYQAAAAGCFSR9AAAAAAJ1PD0AAAADAuiAUQAAAAMAL5AhAAAAAAIFkK0AAAAAA5wkiQAAAAIDyMxRAAAAA4MhFEEAAAABgeG0XQAAAACDhrSBAAAAAANIBEkAAAAAgyEUbQAAAACBbnhVAAAAAAMfXE0AAAACAR40RQAAAAGA/+B1AAAAAwGLhDEAAAACgl9sZQAAAACBxqRBAAAAAQPXeFUAAAACgbhEtQAAAAOC9LRpAAAAAoIBLFEAAAABAwj0VQAAAAIAYqRZAAAAAgPscCkAAAADAdQoRQAAAAAAu/DFAAAAAYKeLEUAAAADgjeQgQAAAAOB2rApAAAAAwM9MIEAAAADAX2ktQAAAAEDvuzJAAAAAoJl4D0AAAAAgZz4RQAAAAOC2TB1AAAAA4NjDJUAAAACAiDsdQAAAAGCvkg9AAAAAALsqDUAAAABAzugRQAAAAEBw7RZAAAAAwF+8D0AAAADA7CwgQAAAAKDpERBAAAAAgFYTJ0AAAABAQXAhQAAAAEDHmR9AAAAAIGUtFEAAAACgVIsSQAAAAAA52RdAAAAAAIzhFEAAAABAoycHQAAAAADLehdAAAAAAKoDF0AAAAAAMwELQAAAAKDHNxtAAAAAYOFTEkAAAAAAEpMZQAAAACDoYAhAAAAAAPbQCkAAAABAmBUQQAAAAMBoDglAAAAAIIIPD0AAAAAgYj8OQAAAAGD+YRtAAAAAwDgOE0AAAADgHoQSQAAAAGARECBAAAAAABljHUAAAACAPWQdQAAAAIAGPRNAAAAAQOsXD0AAAADg1PoSQAAAACD9bA5AAAAA4CHYFEAAAACgypQUQAAAAAA0gRBAAAAAwNbmE0AAAAAAUTQKQAAAAIA3wR9AAAAA4LC5HUAAAADA1uoiQAAAAED+6SVAAAAAQOqaFUAAAACAr2kXQAAAAEDG/CFAAAAAICFJEUAAAABAtU0fQAAAAGAK5A9AAAAAYKJwGUAAAABgEdMTQAAAAKDu5CtAAAAA4E25H0AAAABg2v0hQAAAAIA+LBVAAAAAYNzPCEAAAADg5CEfQAAAAOBjax1AAAAAALBOIUAAAACgNaQQQAAAAODaAxdAAAAAwJC5D0AAAADAG5QRQAAAAGD57wxAAAAA4Cf1BkAAAADAUXsWQAAAAIA75RlAAAAAgLCDG0AAAACgwAgTQAAAAIAetgdAAAAAYOWqGEAAAACAU4cpQAAAAKD1XBxAAAAAwCu5K0AAAACgBc8KQAAAAACMCxxAAAAAwGETJEAAAAAAyTISQAAAAID4GRVAAAAAYJX/FkAAAABg9bQNQAAAAAD64hhAAAAAANe8FEAAAAAA9KUIQAAAAKAi6CRAAAAAoOBMFkAAAABg47UvQAAAAKAjiyVAAAAAIHI5EkAAAAAAAHUhQAAAAGBbyglAAAAAIPchHkAAAADAKKsRQAAAACDk4BVAAAAAYHejEkAAAABAi0AjQAAAAGBsqiBAAAAAgDymHUAAAADAg44XQAAAAGBAPiVAAAAA4IIpFUAAAADgI6wmQAAAACAQdiBAAAAAYNvSGkAAAABA9o0bQAAAAEDTmgZAAAAAAAhdCkAAAACAN0EeQAAAAEDdsBdAAAAAQFRWFkAAAAAAbh4JQAAAAIAfLi9AAAAAgCLYFUAAAACgFEonQAAAACAJIBdAAAAAYHMfFUAAAADgGsIkQAAAAEBezSJAAAAAYNeRHEAAAABAsUYLQAAAAGCLARNAAAAAgEK2GUAAAACgcHgfQAAAACBf7xZAAAAAwGDjDEAAAAAgdnAjQAAAAED6PCFAAAAAAFBLJkAAAACgCR4UQAAAAKBqJwlAAAAAoAcVMkAAAACgMzsaQAAAAKCG5BhAAAAAgINtGUAAAACAEwgGQAAAAOB90wlAAAAAgAIcDkAAAAAAMFAaQAAAAODdbBVAAAAAgFvGCEAAAADA6BcYQAAAAEBotBdAAAAAQOtdF0AAAADAsDkhQAAAAADNhCZAAAAAwOA8IkAAAACgu7coQAAAAGAclCtAAAAAQB9JGUAAAADAmFwVQAAAAKCqLwdAAAAA4JRUF0AAAACgzZcWQAAAAGAPOxZAAAAAYDl6DEAAAADA+GgXQAAAAKAdSxFAAAAAQIaxHEAAAABgRSoWQAAAAGAEpAtAAAAAQHQNEEAAAAAgPaYHQAAAAMDm5BhAAAAAwHm8K0AAAACAAMQWQAAAAOAEEBFAAAAAQKZcEUAAAACgLWEcQAAAAMBcHQ5AAAAAAO3GE0AAAAAgDqELQAAAAKC2jAxAAAAAAByoFUAAAABgE2ISQAAAAOCOliVAAAAAIOikDEAAAAAgpfQIQAAAAGC0+hZAAAAA4AMDCkAAAABA43waQAAAAEBXZhZAAAAAQIcxFUAAAAAAywwcQAAAAOBM4hZAAAAAAFcpIEAAAAAgBXgWQAAAAGBCyyNAAAAAgPAyMEAAAADAtdUhQAAAAKC5WghAAAAAwODPFEAAAAAgU4I4QAAAAOAqlw1AAAAAAFYvHUAAAACgM1MkQAAAAEBuMB9AAAAAoEoRFUAAAABgqXkOQAAAAGCMFRZAAAAAAFbAEEAAAAAgrl4ZQAAAAICylh9AAAAAAC2LHEAAAADAP0ARQAAAAMDCaSlAAAAAYHhBCUAAAADgPBQXQAAAAOAXUxZAAAAAgIsgEUAAAABAdBEoQAAAACCNxxRAAAAAoMEBFkAAAAAAamARQAAAACBhGTFAAAAAwGffI0AAAADAOPAaQAAAAADJzQhAAAAAACewKEAAAAAA7YUbQAAAACAE5AhAAAAAYNaQE0AAAACA5dgHQAAAACB4AihAAAAAYHoMGEAAAACAaRsUQAAAAIBENRFAAAAAgLt0G0AAAABAnhcrQAAAAADXFBNAAAAAgOXeD0AAAAAAUXkcQAAAAEBN8h5AAAAA4CP6JUAAAAAAvY0VQAAAAIBEJBpAAAAAAD7VE0AAAAAg5T8KQAAAAOCrvxVAAAAAQMzDFkAAAADAJXMcQAAAAIC68iBAAAAAwChWIkAAAACgLWAYQAAAAODCCCVAAAAAoF2sIkAAAAAghO8jQAAAAADAJRZAAAAAwDh4DkAAAACAx9gPQAAAAABhRyNAAAAAQN4TCEAAAADArSQKQAAAAEDvZiVAAAAAoAvKF0AAAAAAQi4aQAAAAGDz5xhAAAAAIJzzHkAAAAAg5n0gQAAAAMCRMCVAAAAA4Px/EUAAAACgbIoYQAAAAODbWjFAAAAAYIBLHEAAAAAgMmMiQAAAAGDSHCVAAAAAQLBCHkAAAADgl18gQAAAAKBDaBZAAAAAYJckFkAAAACgXDkRQAAAAED9VQdAAAAAgKGsI0AAAAAAaaMRQAAAAKC0pBhAAAAAgO6BEEAAAAAAKJIMQAAAAOABPghAAAAAQAgGD0AAAABgM1ELQAAAAEBi4RRAAAAAILj/GkAAAADAae8YQAAAAMCUYg9AAAAAIOvKGUAAAABgyYkTQAAAAAAT3gpAAAAAwBw6DUAAAACASqUgQAAAAGAvBy1AAAAA4DD7EEAAAACA+xwdQAAAAKDeUBhAAAAA4KQXJEAAAACAyaUcQAAAAGCnTCBAAAAAAKnxHkAAAADgE5omQAAAACBEcQxAAAAAgI5LDEAAAAAAi5UvQAAAAGAihwpAAAAAoF26GUAAAACgsNQTQAAAAKDWmBpAAAAAYHFFEUAAAACAfBIUQAAAACAmkxBAAAAAgB+4CEAAAAAAk5gGQAAAAGDWuBRAAAAAAKk2HUAAAAAAOTAwQAAAAMDt5SBAAAAAoFZ4L0AAAACgO94dQAAAAABYLhtAAAAAAC1RCkAAAACAmhgRQAAAAKA8ECZAAAAAwBSQHEAAAAAgwtMRQAAAAKA2xyBAAAAAoBwNCEAAAADgAw8hQAAAAADWSgxAAAAA4M5wEEAAAADAhD8gQAAAAMDfbCNAAAAAoEjzGEAAAAAgoosPQAAAAIBCqAhAAAAAoFjdF0AAAAAgS1whQAAAAODT3Q1AAAAAAK7WFEAAAAAAyz4aQAAAAOCDThVAAAAAwLKKGUAAAADA9skYQAAAAADFkSZAAAAAYPqPFEAAAADgogYhQAAAAEA0kxFAAAAAwJS3GEAAAACAWLoUQAAAAOAeZihAAAAAIEVBFkAAAABAQMEZQAAAAKBSqhVAAAAAYJhqCkAAAACAOR4ZQAAAAKDR4hZAAAAAoMAkDUAAAAAAAUEFQAAAACDmfg9AAAAAgPg5HkAAAACAn+4NQAAAAAA2nhNAAAAAIFBRI0AAAADgusEOQAAAAKC7WylAAAAAANdiDkAAAACAymYgQAAAAIAjWhZAAAAAQJ6JC0AAAACgLakoQAAAAIBcOhFAAAAAoNF7IUAAAADgFH0ZQAAAACCrnxlAAAAAoEfBHkAAAABAZaELQAAAAGDuWxJA\",\"dtype\":\"float64\",\"order\":\"little\",\"shape\":[456]},\"index\":{\"__ndarray__\":\"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\",\"dtype\":\"float64\",\"order\":\"little\",\"shape\":[456]}},\"selected\":{\"id\":\"2448\"},\"selection_policy\":{\"id\":\"2449\"}},\"id\":\"2432\",\"type\":\"ColumnDataSource\"},{\"attributes\":{\"fill_alpha\":{\"value\":0.6},\"fill_color\":{\"value\":\"crimson\"},\"line_color\":{\"value\":null},\"x\":{\"field\":\"index\"},\"y\":{\"field\":\"error\"}},\"id\":\"2416\",\"type\":\"Scatter\"},{\"attributes\":{\"fill_alpha\":{\"value\":0.1},\"fill_color\":{\"value\":\"crimson\"},\"line_alpha\":{\"value\":0.1},\"line_color\":{\"value\":null},\"x\":{\"field\":\"index\"},\"y\":{\"field\":\"error\"}},\"id\":\"2417\",\"type\":\"Scatter\"},{\"attributes\":{\"axis_label\":\"Reconstruction Error\",\"formatter\":{\"id\":\"2424\"},\"major_label_policy\":{\"id\":\"2425\"},\"ticker\":{\"id\":\"2397\"}},\"id\":\"2396\",\"type\":\"LinearAxis\"},{\"attributes\":{},\"id\":\"2421\",\"type\":\"BasicTickFormatter\"},{\"attributes\":{},\"id\":\"2401\",\"type\":\"WheelZoomTool\"},{\"attributes\":{},\"id\":\"2449\",\"type\":\"UnionRenderers\"},{\"attributes\":{\"axis\":{\"id\":\"2396\"},\"dimension\":1,\"ticker\":null},\"id\":\"2399\",\"type\":\"Grid\"},{\"attributes\":{},\"id\":\"2400\",\"type\":\"PanTool\"},{\"attributes\":{},\"id\":\"2425\",\"type\":\"AllLabels\"},{\"attributes\":{},\"id\":\"2403\",\"type\":\"SaveTool\"},{\"attributes\":{\"data_source\":{\"id\":\"2414\"},\"glyph\":{\"id\":\"2416\"},\"hover_glyph\":null,\"muted_glyph\":null,\"nonselection_glyph\":{\"id\":\"2417\"},\"view\":{\"id\":\"2419\"}},\"id\":\"2418\",\"type\":\"GlyphRenderer\"},{\"attributes\":{\"overlay\":{\"id\":\"2406\"}},\"id\":\"2402\",\"type\":\"BoxZoomTool\"},{\"attributes\":{},\"id\":\"2405\",\"type\":\"HelpTool\"},{\"attributes\":{},\"id\":\"2422\",\"type\":\"AllLabels\"},{\"attributes\":{\"source\":{\"id\":\"2414\"}},\"id\":\"2419\",\"type\":\"CDSView\"},{\"attributes\":{},\"id\":\"2404\",\"type\":\"ResetTool\"},{\"attributes\":{\"label\":{\"value\":\"Abnormal Signals\"},\"renderers\":[{\"id\":\"2436\"}]},\"id\":\"2450\",\"type\":\"LegendItem\"}],\"root_ids\":[\"2381\"]},\"title\":\"Bokeh Application\",\"version\":\"2.3.3\"}};\n",
       "  var render_items = [{\"docid\":\"e66f7df2-6600-41d6-a661-040309353948\",\"root_ids\":[\"2381\"],\"roots\":{\"2381\":\"e4377af6-518c-4980-bc99-82379f2ec537\"}}];\n",
       "  root.Bokeh.embed.embed_items_notebook(docs_json, render_items);\n",
       "\n",
       "  }\n",
       "  if (root.Bokeh !== undefined) {\n",
       "    embed_document(root);\n",
       "  } else {\n",
       "    var attempts = 0;\n",
       "    var timer = setInterval(function(root) {\n",
       "      if (root.Bokeh !== undefined) {\n",
       "        clearInterval(timer);\n",
       "        embed_document(root);\n",
       "      } else {\n",
       "        attempts++;\n",
       "        if (attempts > 100) {\n",
       "          clearInterval(timer);\n",
       "          console.log(\"Bokeh: ERROR: Unable to run BokehJS code because BokehJS library is missing\");\n",
       "        }\n",
       "      }\n",
       "    }, 10, root)\n",
       "  }\n",
       "})(window);"
      ],
      "application/vnd.bokehjs_exec.v0+json": ""
     },
     "metadata": {
      "application/vnd.bokehjs_exec.v0+json": {
       "id": "2381"
      }
     },
     "output_type": "display_data"
    }
   ],
   "source": [
    "THRESHOLD_MIN = 2.0\n",
    "THRESHOLD_MAX = 7.0\n",
    "\n",
    "p = figure(\n",
    "    plot_width=600,\n",
    "    plot_height=400,\n",
    "    title=f\"{MODEL_NAME}: Threshold Range Exploration\",\n",
    "    x_axis_label=\"Samples\",\n",
    "    y_axis_label=\"Reconstruction Error\",\n",
    ")\n",
    "\n",
    "source = ColumnDataSource(\n",
    "    dict(index=stack[test_labels == 0][:, 0], error=stack[test_labels == 0][:, 1])\n",
    ")\n",
    "p.scatter(\n",
    "    \"index\",\n",
    "    \"error\",\n",
    "    fill_alpha=0.6,\n",
    "    fill_color=\"crimson\",\n",
    "    line_color=None,\n",
    "    legend_label=\"Normal Signals\",\n",
    "    source=source,\n",
    ")\n",
    "\n",
    "source = ColumnDataSource(\n",
    "    dict(index=stack[test_labels == 1][:, 0], error=stack[test_labels == 1][:, 1])\n",
    ")\n",
    "p.scatter(\n",
    "    \"index\",\n",
    "    \"error\",\n",
    "    fill_alpha=0.6,\n",
    "    fill_color=\"indigo\",\n",
    "    line_color=None,\n",
    "    legend_label=\"Abnormal Signals\",\n",
    "    source=source,\n",
    ")\n",
    "\n",
    "source = ColumnDataSource(\n",
    "    data=dict(\n",
    "        index=stack[:, 0],\n",
    "        threshold_min=np.repeat(THRESHOLD_MIN, stack.shape[0]),\n",
    "        threshold_max=np.repeat(THRESHOLD_MAX, stack.shape[0]),\n",
    "    )\n",
    ")\n",
    "\n",
    "box = BoxAnnotation(\n",
    "    bottom=THRESHOLD_MIN,\n",
    "    top=THRESHOLD_MAX,\n",
    "    fill_alpha=0.1,\n",
    "    fill_color=\"magenta\",\n",
    "    line_color=\"darkmagenta\",\n",
    "    line_width=1.0,\n",
    ")\n",
    "p.add_layout(box)\n",
    "\n",
    "p.legend.label_text_font_size = \"8pt\"\n",
    "p.legend.location = \"top_right\"\n",
    "p.title.align = \"center\"\n",
    "p.title.text_font_size = \"12pt\"\n",
    "\n",
    "p.add_tools(HoverTool(tooltips=[(\"index\", \"@index\"), (\"error\", \"@error\")]))\n",
    "show(p)\n",
    "\n",
    "p.output_backend = \"svg\"\n",
    "_ = export_svgs(p, filename=os.path.join(IMAGE_PATH, \"thr_range_exp.svg\"))"
   ]
  },
  {
   "cell_type": "code",
   "execution_count": 35,
   "id": "8e942a91-6fd4-43d9-a85f-2f9b82ed8e9d",
   "metadata": {},
   "outputs": [],
   "source": [
    "THRESHOLD_STEP = 0.2\n",
    "thresholds = np.arange(THRESHOLD_MIN, THRESHOLD_MAX + THRESHOLD_STEP, THRESHOLD_STEP)\n",
    "errors = []\n",
    "\n",
    "for threshold in thresholds:\n",
    "    predictions = get_prediction(stack[:, 1], threshold=threshold)\n",
    "    conf_mat = confusion_matrix(test_labels, predictions)\n",
    "    errors.append([threshold, conf_mat[1, 0], conf_mat[0, 1]])\n",
    "\n",
    "errors = np.array(errors)"
   ]
  },
  {
   "cell_type": "code",
   "execution_count": 36,
   "id": "b27ade12-c641-40bd-893c-9773242b1220",
   "metadata": {},
   "outputs": [
    {
     "data": {
      "text/html": [
       "\n",
       "\n",
       "\n",
       "\n",
       "\n",
       "\n",
       "  <div class=\"bk-root\" id=\"10e06e1a-408d-423f-984f-c7dc20d1d67a\" data-root-id=\"2713\"></div>\n"
      ]
     },
     "metadata": {},
     "output_type": "display_data"
    },
    {
     "data": {
      "application/javascript": [
       "(function(root) {\n",
       "  function embed_document(root) {\n",
       "    \n",
       "  var docs_json = {\"ded1f8f7-2d45-4e64-b96e-af217bb5d874\":{\"defs\":[],\"roots\":{\"references\":[{\"attributes\":{\"below\":[{\"id\":\"2724\"}],\"center\":[{\"id\":\"2727\"},{\"id\":\"2731\"},{\"id\":\"2762\"}],\"height\":400,\"left\":[{\"id\":\"2728\"}],\"renderers\":[{\"id\":\"2750\"},{\"id\":\"2767\"},{\"id\":\"2772\"},{\"id\":\"2788\"}],\"title\":{\"id\":\"2714\"},\"toolbar\":{\"id\":\"2739\"},\"x_range\":{\"id\":\"2716\"},\"x_scale\":{\"id\":\"2720\"},\"y_range\":{\"id\":\"2718\"},\"y_scale\":{\"id\":\"2722\"}},\"id\":\"2713\",\"subtype\":\"Figure\",\"type\":\"Plot\"},{\"attributes\":{\"active_multi\":null,\"tools\":[{\"id\":\"2732\"},{\"id\":\"2733\"},{\"id\":\"2734\"},{\"id\":\"2735\"},{\"id\":\"2736\"},{\"id\":\"2737\"},{\"id\":\"2790\"}]},\"id\":\"2739\",\"type\":\"Toolbar\"},{\"attributes\":{\"label\":{\"value\":\"False Positive\"},\"renderers\":[{\"id\":\"2772\"}]},\"id\":\"2784\",\"type\":\"LegendItem\"},{\"attributes\":{},\"id\":\"2756\",\"type\":\"BasicTickFormatter\"},{\"attributes\":{\"overlay\":{\"id\":\"2738\"}},\"id\":\"2734\",\"type\":\"BoxZoomTool\"},{\"attributes\":{\"label\":{\"value\":\"False Negative\"},\"renderers\":[{\"id\":\"2750\"}]},\"id\":\"2763\",\"type\":\"LegendItem\"},{\"attributes\":{},\"id\":\"2720\",\"type\":\"LinearScale\"},{\"attributes\":{\"source\":{\"id\":\"2746\"}},\"id\":\"2773\",\"type\":\"CDSView\"},{\"attributes\":{},\"id\":\"2733\",\"type\":\"WheelZoomTool\"},{\"attributes\":{\"line_alpha\":0.1,\"line_color\":\"crimson\",\"x\":{\"field\":\"threshold\"},\"y\":{\"field\":\"false_negative\"}},\"id\":\"2749\",\"type\":\"Line\"},{\"attributes\":{},\"id\":\"2754\",\"type\":\"AllLabels\"},{\"attributes\":{\"axis\":{\"id\":\"2724\"},\"ticker\":null},\"id\":\"2727\",\"type\":\"Grid\"},{\"attributes\":{},\"id\":\"2761\",\"type\":\"UnionRenderers\"},{\"attributes\":{\"align\":\"center\",\"text\":\"AutoEncoder: Best Threshold Exploration\",\"text_font_size\":\"12pt\"},\"id\":\"2714\",\"type\":\"Title\"},{\"attributes\":{},\"id\":\"2722\",\"type\":\"LinearScale\"},{\"attributes\":{\"source\":{\"id\":\"2746\"}},\"id\":\"2768\",\"type\":\"CDSView\"},{\"attributes\":{},\"id\":\"2735\",\"type\":\"SaveTool\"},{\"attributes\":{\"fill_color\":{\"value\":\"white\"},\"line_color\":{\"value\":\"crimson\"},\"x\":{\"field\":\"threshold\"},\"y\":{\"field\":\"false_negative\"}},\"id\":\"2765\",\"type\":\"Circle\"},{\"attributes\":{},\"id\":\"2737\",\"type\":\"HelpTool\"},{\"attributes\":{\"line_alpha\":0.1,\"line_color\":\"indigo\",\"x\":{\"field\":\"threshold\"},\"y\":{\"field\":\"false_positive\"}},\"id\":\"2771\",\"type\":\"Line\"},{\"attributes\":{},\"id\":\"2753\",\"type\":\"BasicTickFormatter\"},{\"attributes\":{\"source\":{\"id\":\"2746\"}},\"id\":\"2751\",\"type\":\"CDSView\"},{\"attributes\":{\"data_source\":{\"id\":\"2746\"},\"glyph\":{\"id\":\"2770\"},\"hover_glyph\":null,\"muted_glyph\":null,\"nonselection_glyph\":{\"id\":\"2771\"},\"view\":{\"id\":\"2773\"}},\"id\":\"2772\",\"type\":\"GlyphRenderer\"},{\"attributes\":{\"bottom_units\":\"screen\",\"fill_alpha\":0.5,\"fill_color\":\"lightgrey\",\"left_units\":\"screen\",\"level\":\"overlay\",\"line_alpha\":1.0,\"line_color\":\"black\",\"line_dash\":[4,4],\"line_width\":2,\"right_units\":\"screen\",\"syncable\":false,\"top_units\":\"screen\"},\"id\":\"2738\",\"type\":\"BoxAnnotation\"},{\"attributes\":{},\"id\":\"2725\",\"type\":\"BasicTicker\"},{\"attributes\":{},\"id\":\"2718\",\"type\":\"DataRange1d\"},{\"attributes\":{\"axis_label\":\"Reconstruction Error Threshold (%)\",\"formatter\":{\"id\":\"2753\"},\"major_label_policy\":{\"id\":\"2754\"},\"ticker\":{\"id\":\"2725\"}},\"id\":\"2724\",\"type\":\"LinearAxis\"},{\"attributes\":{\"line_color\":\"indigo\",\"x\":{\"field\":\"threshold\"},\"y\":{\"field\":\"false_positive\"}},\"id\":\"2770\",\"type\":\"Line\"},{\"attributes\":{},\"id\":\"2757\",\"type\":\"AllLabels\"},{\"attributes\":{},\"id\":\"2729\",\"type\":\"BasicTicker\"},{\"attributes\":{},\"id\":\"2716\",\"type\":\"DataRange1d\"},{\"attributes\":{\"data_source\":{\"id\":\"2746\"},\"glyph\":{\"id\":\"2786\"},\"hover_glyph\":null,\"muted_glyph\":null,\"nonselection_glyph\":{\"id\":\"2787\"},\"view\":{\"id\":\"2789\"}},\"id\":\"2788\",\"type\":\"GlyphRenderer\"},{\"attributes\":{\"data\":{\"false_negative\":{\"__ndarray__\":\"AAAAAAAAAAAAAAAAAAAAAAAAAAAAAAAAAAAAAAAAAAAAAAAAAAAAQAAAAAAAAChAAAAAAAAAP0AAAAAAAABIQAAAAAAAAE9AAAAAAABAU0AAAAAAAIBYQAAAAAAAQFtAAAAAAABAYEAAAAAAAIBhQAAAAAAAoGJAAAAAAADgY0AAAAAAAKBlQAAAAAAA4GdAAAAAAADAakAAAAAAAABtQAAAAAAAoG5AAAAAAAAgcEAAAAAAABBxQAAAAAAA4HFAAAAAAABQckAAAAAAANByQA==\",\"dtype\":\"float64\",\"order\":\"little\",\"shape\":[26]},\"false_positive\":{\"__ndarray__\":\"AAAAAACYkUAAAAAAAJiRQAAAAAAAmJFAAAAAAACMkUAAAAAAAAiRQAAAAAAAKJBAAAAAAACojkAAAAAAALiMQAAAAAAAiIpAAAAAAACwiEAAAAAAAJiGQAAAAAAAUIRAAAAAAAAogkAAAAAAAIB/QAAAAAAA4HtAAAAAAACQeEAAAAAAAFB1QAAAAAAAIHJAAAAAAABAcEAAAAAAAMBsQAAAAAAAYGlAAAAAAAAAZ0AAAAAAACBkQAAAAAAAQGJAAAAAAAAAYEAAAAAAAEBcQA==\",\"dtype\":\"float64\",\"order\":\"little\",\"shape\":[26]},\"threshold\":{\"__ndarray__\":\"AAAAAAAAAECamZmZmZkBQDQzMzMzMwNAzszMzMzMBEBoZmZmZmYGQAIAAAAAAAhAnJmZmZmZCUA2MzMzMzMLQNDMzMzMzAxAamZmZmZmDkACAAAAAAAQQM/MzMzMzBBAnJmZmZmZEUBpZmZmZmYSQDYzMzMzMxNAAwAAAAAAFEDQzMzMzMwUQJ2ZmZmZmRVAamZmZmZmFkA3MzMzMzMXQAQAAAAAABhA0czMzMzMGECemZmZmZkZQGtmZmZmZhpAODMzMzMzG0AFAAAAAAAcQA==\",\"dtype\":\"float64\",\"order\":\"little\",\"shape\":[26]}},\"selected\":{\"id\":\"2760\"},\"selection_policy\":{\"id\":\"2761\"}},\"id\":\"2746\",\"type\":\"ColumnDataSource\"},{\"attributes\":{\"data_source\":{\"id\":\"2746\"},\"glyph\":{\"id\":\"2765\"},\"hover_glyph\":null,\"muted_glyph\":null,\"nonselection_glyph\":{\"id\":\"2766\"},\"view\":{\"id\":\"2768\"}},\"id\":\"2767\",\"type\":\"GlyphRenderer\"},{\"attributes\":{\"axis_label\":\"# Samples\",\"formatter\":{\"id\":\"2756\"},\"major_label_policy\":{\"id\":\"2757\"},\"ticker\":{\"id\":\"2729\"}},\"id\":\"2728\",\"type\":\"LinearAxis\"},{\"attributes\":{\"fill_color\":{\"value\":\"white\"},\"line_color\":{\"value\":\"indigo\"},\"x\":{\"field\":\"threshold\"},\"y\":{\"field\":\"false_positive\"}},\"id\":\"2786\",\"type\":\"Circle\"},{\"attributes\":{\"axis\":{\"id\":\"2728\"},\"dimension\":1,\"ticker\":null},\"id\":\"2731\",\"type\":\"Grid\"},{\"attributes\":{\"fill_alpha\":{\"value\":0.1},\"fill_color\":{\"value\":\"white\"},\"line_alpha\":{\"value\":0.1},\"line_color\":{\"value\":\"crimson\"},\"x\":{\"field\":\"threshold\"},\"y\":{\"field\":\"false_negative\"}},\"id\":\"2766\",\"type\":\"Circle\"},{\"attributes\":{\"click_policy\":\"hide\",\"items\":[{\"id\":\"2763\"},{\"id\":\"2784\"}],\"label_text_font_size\":\"8pt\",\"location\":\"top_left\"},\"id\":\"2762\",\"type\":\"Legend\"},{\"attributes\":{},\"id\":\"2736\",\"type\":\"ResetTool\"},{\"attributes\":{\"data_source\":{\"id\":\"2746\"},\"glyph\":{\"id\":\"2748\"},\"hover_glyph\":null,\"muted_glyph\":null,\"nonselection_glyph\":{\"id\":\"2749\"},\"view\":{\"id\":\"2751\"}},\"id\":\"2750\",\"type\":\"GlyphRenderer\"},{\"attributes\":{\"source\":{\"id\":\"2746\"}},\"id\":\"2789\",\"type\":\"CDSView\"},{\"attributes\":{\"fill_alpha\":{\"value\":0.1},\"fill_color\":{\"value\":\"white\"},\"line_alpha\":{\"value\":0.1},\"line_color\":{\"value\":\"indigo\"},\"x\":{\"field\":\"threshold\"},\"y\":{\"field\":\"false_positive\"}},\"id\":\"2787\",\"type\":\"Circle\"},{\"attributes\":{},\"id\":\"2732\",\"type\":\"PanTool\"},{\"attributes\":{},\"id\":\"2760\",\"type\":\"Selection\"},{\"attributes\":{\"line_color\":\"crimson\",\"x\":{\"field\":\"threshold\"},\"y\":{\"field\":\"false_negative\"}},\"id\":\"2748\",\"type\":\"Line\"},{\"attributes\":{\"callback\":null,\"tooltips\":[[\"threshold\",\"@threshold\"],[\"false_negative\",\"@false_negative\"],[\"false_positive\",\"@false_positive\"]]},\"id\":\"2790\",\"type\":\"HoverTool\"}],\"root_ids\":[\"2713\"]},\"title\":\"Bokeh Application\",\"version\":\"2.3.3\"}};\n",
       "  var render_items = [{\"docid\":\"ded1f8f7-2d45-4e64-b96e-af217bb5d874\",\"root_ids\":[\"2713\"],\"roots\":{\"2713\":\"10e06e1a-408d-423f-984f-c7dc20d1d67a\"}}];\n",
       "  root.Bokeh.embed.embed_items_notebook(docs_json, render_items);\n",
       "\n",
       "  }\n",
       "  if (root.Bokeh !== undefined) {\n",
       "    embed_document(root);\n",
       "  } else {\n",
       "    var attempts = 0;\n",
       "    var timer = setInterval(function(root) {\n",
       "      if (root.Bokeh !== undefined) {\n",
       "        clearInterval(timer);\n",
       "        embed_document(root);\n",
       "      } else {\n",
       "        attempts++;\n",
       "        if (attempts > 100) {\n",
       "          clearInterval(timer);\n",
       "          console.log(\"Bokeh: ERROR: Unable to run BokehJS code because BokehJS library is missing\");\n",
       "        }\n",
       "      }\n",
       "    }, 10, root)\n",
       "  }\n",
       "})(window);"
      ],
      "application/vnd.bokehjs_exec.v0+json": ""
     },
     "metadata": {
      "application/vnd.bokehjs_exec.v0+json": {
       "id": "2713"
      }
     },
     "output_type": "display_data"
    }
   ],
   "source": [
    "p = figure(\n",
    "    plot_width=600,\n",
    "    plot_height=400,\n",
    "    title=f\"{MODEL_NAME}: Best Threshold Exploration\",\n",
    "    x_axis_label=\"Reconstruction Error Threshold (%)\",\n",
    "    y_axis_label=\"# Samples\",\n",
    ")\n",
    "\n",
    "source = ColumnDataSource(\n",
    "    data=dict(\n",
    "        threshold=errors[:, 0], false_negative=errors[:, 1], false_positive=errors[:, 2]\n",
    "    )\n",
    ")\n",
    "\n",
    "p.line(\n",
    "    x=\"threshold\",\n",
    "    y=\"false_negative\",\n",
    "    color=\"crimson\",\n",
    "    legend_label=\"False Negative\",\n",
    "    source=source,\n",
    ")\n",
    "p.circle(\n",
    "    x=\"threshold\", y=\"false_negative\", color=\"crimson\", fill_color=\"white\", source=source\n",
    ")\n",
    "p.line(\n",
    "    x=\"threshold\",\n",
    "    y=\"false_positive\",\n",
    "    color=\"indigo\",\n",
    "    legend_label=\"False Positive\",\n",
    "    source=source,\n",
    ")\n",
    "p.circle(\n",
    "    x=\"threshold\", y=\"false_positive\", color=\"indigo\", fill_color=\"white\", source=source\n",
    ")\n",
    "\n",
    "p.legend.label_text_font_size = \"8pt\"\n",
    "p.legend.location = \"top_left\"\n",
    "p.legend.click_policy = \"hide\"\n",
    "p.title.align = \"center\"\n",
    "p.title.text_font_size = \"12pt\"\n",
    "\n",
    "p.add_tools(\n",
    "    HoverTool(\n",
    "        tooltips=[\n",
    "            (\"threshold\", \"@threshold\"),\n",
    "            (\"false_negative\", \"@false_negative\"),\n",
    "            (\"false_positive\", \"@false_positive\"),\n",
    "        ]\n",
    "    )\n",
    ")\n",
    "show(p)\n",
    "\n",
    "p.output_backend = \"svg\"\n",
    "_ = export_svgs(p, filename=os.path.join(IMAGE_PATH, \"best_thr_exp.svg\"))"
   ]
  },
  {
   "cell_type": "code",
   "execution_count": 37,
   "id": "025c99d8-8cc3-4891-99fb-ce34f716c455",
   "metadata": {},
   "outputs": [
    {
     "data": {
      "text/html": [
       "\n",
       "\n",
       "\n",
       "\n",
       "\n",
       "\n",
       "  <div class=\"bk-root\" id=\"89c3f0e3-3a17-481a-8663-c23cbb67cc2a\" data-root-id=\"3028\"></div>\n"
      ]
     },
     "metadata": {},
     "output_type": "display_data"
    },
    {
     "data": {
      "application/javascript": [
       "(function(root) {\n",
       "  function embed_document(root) {\n",
       "    \n",
       "  var docs_json = {\"3612ae47-8c57-427e-9753-430707e56cca\":{\"defs\":[],\"roots\":{\"references\":[{\"attributes\":{\"below\":[{\"id\":\"3039\"}],\"center\":[{\"id\":\"3042\"},{\"id\":\"3046\"},{\"id\":\"3068\"},{\"id\":\"3069\"},{\"id\":\"3070\"},{\"id\":\"3071\"}],\"height\":300,\"left\":[{\"id\":\"3043\"}],\"renderers\":[{\"id\":\"3066\"}],\"title\":{\"id\":\"3029\"},\"toolbar\":{\"id\":\"3054\"},\"width\":330,\"x_range\":{\"id\":\"3031\"},\"x_scale\":{\"id\":\"3035\"},\"y_range\":{\"id\":\"3033\"},\"y_scale\":{\"id\":\"3037\"}},\"id\":\"3028\",\"subtype\":\"Figure\",\"type\":\"Plot\"},{\"attributes\":{\"axis\":{\"id\":\"3043\"},\"dimension\":1,\"grid_line_color\":null,\"ticker\":null},\"id\":\"3046\",\"type\":\"Grid\"},{\"attributes\":{\"text\":\"62\",\"text_baseline\":\"middle\",\"text_color\":\"white\",\"text_font_size\":\"10px\",\"text_font_style\":\"bold\",\"x\":1,\"x_offset\":-5.5,\"y\":0},\"id\":\"3070\",\"type\":\"Label\"},{\"attributes\":{},\"id\":\"3051\",\"type\":\"ResetTool\"},{\"attributes\":{\"ticks\":[0,1]},\"id\":\"3072\",\"type\":\"FixedTicker\"},{\"attributes\":{},\"id\":\"3152\",\"type\":\"BasicTickFormatter\"},{\"attributes\":{\"source\":{\"id\":\"3062\"}},\"id\":\"3067\",\"type\":\"CDSView\"},{\"attributes\":{},\"id\":\"3154\",\"type\":\"BasicTickFormatter\"},{\"attributes\":{\"text\":\"277\",\"text_baseline\":\"middle\",\"text_color\":\"white\",\"text_font_size\":\"10px\",\"text_font_style\":\"bold\",\"x\":0,\"x_offset\":-6.5,\"y\":0},\"id\":\"3068\",\"type\":\"Label\"},{\"attributes\":{\"bottom_units\":\"screen\",\"fill_alpha\":0.5,\"fill_color\":\"lightgrey\",\"left_units\":\"screen\",\"level\":\"overlay\",\"line_alpha\":1.0,\"line_color\":\"black\",\"line_dash\":[4,4],\"line_width\":2,\"right_units\":\"screen\",\"syncable\":false,\"top_units\":\"screen\"},\"id\":\"3053\",\"type\":\"BoxAnnotation\"},{\"attributes\":{\"align\":\"center\",\"text\":\"AutoEncoder: Confusion Matrix\"},\"id\":\"3029\",\"type\":\"Title\"},{\"attributes\":{},\"id\":\"3155\",\"type\":\"AllLabels\"},{\"attributes\":{\"text\":\"849\",\"text_baseline\":\"middle\",\"text_color\":\"black\",\"text_font_size\":\"10px\",\"text_font_style\":\"bold\",\"x\":0,\"x_offset\":-6.5,\"y\":1},\"id\":\"3069\",\"type\":\"Label\"},{\"attributes\":{\"fill_alpha\":{\"value\":0.6},\"fill_color\":{\"field\":\"n_samples\",\"transform\":{\"id\":\"3061\"}},\"height\":{\"value\":1},\"line_alpha\":{\"value\":0.6},\"line_color\":{\"value\":\"white\"},\"line_width\":{\"value\":1.5},\"width\":{\"value\":1},\"x\":{\"field\":\"true_class\"},\"y\":{\"field\":\"predicted_class\"}},\"id\":\"3064\",\"type\":\"Rect\"},{\"attributes\":{\"fill_alpha\":{\"value\":0.1},\"fill_color\":{\"field\":\"n_samples\",\"transform\":{\"id\":\"3061\"}},\"height\":{\"value\":1},\"line_alpha\":{\"value\":0.1},\"line_color\":{\"value\":\"white\"},\"line_width\":{\"value\":1.5},\"width\":{\"value\":1},\"x\":{\"field\":\"true_class\"},\"y\":{\"field\":\"predicted_class\"}},\"id\":\"3065\",\"type\":\"Rect\"},{\"attributes\":{\"data_source\":{\"id\":\"3062\"},\"glyph\":{\"id\":\"3064\"},\"hover_glyph\":null,\"muted_glyph\":null,\"nonselection_glyph\":{\"id\":\"3065\"},\"view\":{\"id\":\"3067\"}},\"id\":\"3066\",\"type\":\"GlyphRenderer\"},{\"attributes\":{},\"id\":\"3031\",\"type\":\"DataRange1d\"},{\"attributes\":{\"high\":849,\"low\":62,\"palette\":[\"#000000\",\"#010101\",\"#020202\",\"#030303\",\"#040404\",\"#050505\",\"#060606\",\"#070707\",\"#080808\",\"#090909\",\"#0a0a0a\",\"#0b0b0b\",\"#0c0c0c\",\"#0d0d0d\",\"#0e0e0e\",\"#0f0f0f\",\"#101010\",\"#111111\",\"#121212\",\"#131313\",\"#141414\",\"#151515\",\"#161616\",\"#171717\",\"#181818\",\"#191919\",\"#1a1a1a\",\"#1b1b1b\",\"#1c1c1c\",\"#1d1d1d\",\"#1e1e1e\",\"#1f1f1f\",\"#202020\",\"#212121\",\"#222222\",\"#232323\",\"#242424\",\"#252525\",\"#262626\",\"#272727\",\"#282828\",\"#292929\",\"#2a2a2a\",\"#2b2b2b\",\"#2c2c2c\",\"#2d2d2d\",\"#2e2e2e\",\"#2f2f2f\",\"#303030\",\"#313131\",\"#323232\",\"#333333\",\"#343434\",\"#353535\",\"#363636\",\"#373737\",\"#383838\",\"#393939\",\"#3a3a3a\",\"#3b3b3b\",\"#3c3c3c\",\"#3d3d3d\",\"#3e3e3e\",\"#3f3f3f\",\"#404040\",\"#414141\",\"#424242\",\"#434343\",\"#444444\",\"#454545\",\"#464646\",\"#474747\",\"#484848\",\"#494949\",\"#4a4a4a\",\"#4b4b4b\",\"#4c4c4c\",\"#4d4d4d\",\"#4e4e4e\",\"#4f4f4f\",\"#505050\",\"#515151\",\"#525252\",\"#535353\",\"#545454\",\"#555555\",\"#565656\",\"#575757\",\"#585858\",\"#595959\",\"#5a5a5a\",\"#5b5b5b\",\"#5c5c5c\",\"#5d5d5d\",\"#5e5e5e\",\"#5f5f5f\",\"#606060\",\"#616161\",\"#626262\",\"#636363\",\"#646464\",\"#656565\",\"#666666\",\"#676767\",\"#686868\",\"#696969\",\"#6a6a6a\",\"#6b6b6b\",\"#6c6c6c\",\"#6d6d6d\",\"#6e6e6e\",\"#6f6f6f\",\"#707070\",\"#717171\",\"#727272\",\"#737373\",\"#747474\",\"#757575\",\"#767676\",\"#777777\",\"#787878\",\"#797979\",\"#7a7a7a\",\"#7b7b7b\",\"#7c7c7c\",\"#7d7d7d\",\"#7e7e7e\",\"#7f7f7f\",\"#808080\",\"#818181\",\"#828282\",\"#838383\",\"#848484\",\"#858585\",\"#868686\",\"#878787\",\"#888888\",\"#898989\",\"#8a8a8a\",\"#8b8b8b\",\"#8c8c8c\",\"#8d8d8d\",\"#8e8e8e\",\"#8f8f8f\",\"#909090\",\"#919191\",\"#929292\",\"#939393\",\"#949494\",\"#959595\",\"#969696\",\"#979797\",\"#989898\",\"#999999\",\"#9a9a9a\",\"#9b9b9b\",\"#9c9c9c\",\"#9d9d9d\",\"#9e9e9e\",\"#9f9f9f\",\"#a0a0a0\",\"#a1a1a1\",\"#a2a2a2\",\"#a3a3a3\",\"#a4a4a4\",\"#a5a5a5\",\"#a6a6a6\",\"#a7a7a7\",\"#a8a8a8\",\"#a9a9a9\",\"#aaaaaa\",\"#ababab\",\"#acacac\",\"#adadad\",\"#aeaeae\",\"#afafaf\",\"#b0b0b0\",\"#b1b1b1\",\"#b2b2b2\",\"#b3b3b3\",\"#b4b4b4\",\"#b5b5b5\",\"#b6b6b6\",\"#b7b7b7\",\"#b8b8b8\",\"#b9b9b9\",\"#bababa\",\"#bbbbbb\",\"#bcbcbc\",\"#bdbdbd\",\"#bebebe\",\"#bfbfbf\",\"#c0c0c0\",\"#c1c1c1\",\"#c2c2c2\",\"#c3c3c3\",\"#c4c4c4\",\"#c5c5c5\",\"#c6c6c6\",\"#c7c7c7\",\"#c8c8c8\",\"#c9c9c9\",\"#cacaca\",\"#cbcbcb\",\"#cccccc\",\"#cdcdcd\",\"#cecece\",\"#cfcfcf\",\"#d0d0d0\",\"#d1d1d1\",\"#d2d2d2\",\"#d3d3d3\",\"#d4d4d4\",\"#d5d5d5\",\"#d6d6d6\",\"#d7d7d7\",\"#d8d8d8\",\"#d9d9d9\",\"#dadada\",\"#dbdbdb\",\"#dcdcdc\",\"#dddddd\",\"#dedede\",\"#dfdfdf\",\"#e0e0e0\",\"#e1e1e1\",\"#e2e2e2\",\"#e3e3e3\",\"#e4e4e4\",\"#e5e5e5\",\"#e6e6e6\",\"#e7e7e7\",\"#e8e8e8\",\"#e9e9e9\",\"#eaeaea\",\"#ebebeb\",\"#ececec\",\"#ededed\",\"#eeeeee\",\"#efefef\",\"#f0f0f0\",\"#f1f1f1\",\"#f2f2f2\",\"#f3f3f3\",\"#f4f4f4\",\"#f5f5f5\",\"#f6f6f6\",\"#f7f7f7\",\"#f8f8f8\",\"#f9f9f9\",\"#fafafa\",\"#fbfbfb\",\"#fcfcfc\",\"#fdfdfd\",\"#fefefe\",\"#ffffff\"]},\"id\":\"3061\",\"type\":\"LinearColorMapper\"},{\"attributes\":{\"text\":\"394\",\"text_baseline\":\"middle\",\"text_color\":\"white\",\"text_font_size\":\"10px\",\"text_font_style\":\"bold\",\"x\":1,\"x_offset\":-6.5,\"y\":1},\"id\":\"3071\",\"type\":\"Label\"},{\"attributes\":{},\"id\":\"3047\",\"type\":\"PanTool\"},{\"attributes\":{\"ticks\":[0,1]},\"id\":\"3074\",\"type\":\"FixedTicker\"},{\"attributes\":{\"axis_label\":\"Predicted Class\",\"axis_line_color\":null,\"formatter\":{\"id\":\"3154\"},\"major_label_overrides\":{\"0\":\"False\",\"1\":\"True\"},\"major_label_policy\":{\"id\":\"3155\"},\"major_tick_line_color\":null,\"minor_tick_line_color\":null,\"ticker\":{\"id\":\"3074\"}},\"id\":\"3043\",\"type\":\"LinearAxis\"},{\"attributes\":{},\"id\":\"3048\",\"type\":\"WheelZoomTool\"},{\"attributes\":{\"active_multi\":null,\"tools\":[{\"id\":\"3047\"},{\"id\":\"3048\"},{\"id\":\"3049\"},{\"id\":\"3050\"},{\"id\":\"3051\"},{\"id\":\"3052\"}]},\"id\":\"3054\",\"type\":\"Toolbar\"},{\"attributes\":{},\"id\":\"3035\",\"type\":\"LinearScale\"},{\"attributes\":{},\"id\":\"3050\",\"type\":\"SaveTool\"},{\"attributes\":{},\"id\":\"3052\",\"type\":\"HelpTool\"},{\"attributes\":{\"overlay\":{\"id\":\"3053\"}},\"id\":\"3049\",\"type\":\"BoxZoomTool\"},{\"attributes\":{},\"id\":\"3153\",\"type\":\"AllLabels\"},{\"attributes\":{\"data\":{\"n_samples\":[277,849,62,394],\"predicted_class\":[0,0,1,1],\"true_class\":[0,1,0,1]},\"selected\":{\"id\":\"3157\"},\"selection_policy\":{\"id\":\"3158\"}},\"id\":\"3062\",\"type\":\"ColumnDataSource\"},{\"attributes\":{},\"id\":\"3037\",\"type\":\"LinearScale\"},{\"attributes\":{},\"id\":\"3033\",\"type\":\"DataRange1d\"},{\"attributes\":{},\"id\":\"3157\",\"type\":\"Selection\"},{\"attributes\":{},\"id\":\"3158\",\"type\":\"UnionRenderers\"},{\"attributes\":{\"axis\":{\"id\":\"3039\"},\"grid_line_color\":null,\"ticker\":null},\"id\":\"3042\",\"type\":\"Grid\"},{\"attributes\":{\"axis_label\":\"True Class\",\"axis_line_color\":null,\"formatter\":{\"id\":\"3152\"},\"major_label_overrides\":{\"0\":\"False\",\"1\":\"True\"},\"major_label_policy\":{\"id\":\"3153\"},\"major_tick_line_color\":null,\"minor_tick_line_color\":null,\"ticker\":{\"id\":\"3072\"}},\"id\":\"3039\",\"type\":\"LinearAxis\"}],\"root_ids\":[\"3028\"]},\"title\":\"Bokeh Application\",\"version\":\"2.3.3\"}};\n",
       "  var render_items = [{\"docid\":\"3612ae47-8c57-427e-9753-430707e56cca\",\"root_ids\":[\"3028\"],\"roots\":{\"3028\":\"89c3f0e3-3a17-481a-8663-c23cbb67cc2a\"}}];\n",
       "  root.Bokeh.embed.embed_items_notebook(docs_json, render_items);\n",
       "\n",
       "  }\n",
       "  if (root.Bokeh !== undefined) {\n",
       "    embed_document(root);\n",
       "  } else {\n",
       "    var attempts = 0;\n",
       "    var timer = setInterval(function(root) {\n",
       "      if (root.Bokeh !== undefined) {\n",
       "        clearInterval(timer);\n",
       "        embed_document(root);\n",
       "      } else {\n",
       "        attempts++;\n",
       "        if (attempts > 100) {\n",
       "          clearInterval(timer);\n",
       "          console.log(\"Bokeh: ERROR: Unable to run BokehJS code because BokehJS library is missing\");\n",
       "        }\n",
       "      }\n",
       "    }, 10, root)\n",
       "  }\n",
       "})(window);"
      ],
      "application/vnd.bokehjs_exec.v0+json": ""
     },
     "metadata": {
      "application/vnd.bokehjs_exec.v0+json": {
       "id": "3028"
      }
     },
     "output_type": "display_data"
    },
    {
     "name": "stdout",
     "output_type": "stream",
     "text": [
      "Accuracy: 42.41%, Precision: 31.70%, Recall: 86.40%, F1: 46.38%\n"
     ]
    }
   ],
   "source": [
    "THRESHOLD = 3.6\n",
    "predictions = get_prediction(stack[:, 1], threshold=THRESHOLD)\n",
    "\n",
    "plot_confusion_matrix(\n",
    "    confusion_matrix(test_labels, predictions),\n",
    "    model_name=MODEL_NAME,\n",
    "    file_name=os.path.join(IMAGE_PATH, \"conf_mat.svg\"),\n",
    ")\n",
    "\n",
    "print(\n",
    "    f\"Accuracy: {accuracy_score(test_labels, predictions):.2%}, \\\n",
    "Precision: {precision_score(test_labels, predictions):.2%}, \\\n",
    "Recall: {recall_score(test_labels, predictions):.2%}, \\\n",
    "F1: {f1_score(test_labels, predictions):.2%}\"\n",
    ")"
   ]
  },
  {
   "cell_type": "code",
   "execution_count": 38,
   "id": "ce9c6acd-f64d-43ef-94ac-406e9d38ab36",
   "metadata": {},
   "outputs": [
    {
     "data": {
      "text/html": [
       "\n",
       "\n",
       "\n",
       "\n",
       "\n",
       "\n",
       "  <div class=\"bk-root\" id=\"cdc676de-f9c6-4f94-9439-7af9904f88f1\" data-root-id=\"3288\"></div>\n"
      ]
     },
     "metadata": {},
     "output_type": "display_data"
    },
    {
     "data": {
      "application/javascript": [
       "(function(root) {\n",
       "  function embed_document(root) {\n",
       "    \n",
       "  var docs_json = {\"0b8f8eef-0ec9-4392-8615-9c8fd39dbcbd\":{\"defs\":[],\"roots\":{\"references\":[{\"attributes\":{\"below\":[{\"id\":\"3299\"}],\"center\":[{\"id\":\"3302\"},{\"id\":\"3306\"},{\"id\":\"3337\"}],\"height\":400,\"left\":[{\"id\":\"3303\"}],\"renderers\":[{\"id\":\"3325\"},{\"id\":\"3342\"}],\"title\":{\"id\":\"3289\"},\"toolbar\":{\"id\":\"3314\"},\"x_range\":{\"id\":\"3291\"},\"x_scale\":{\"id\":\"3295\"},\"y_range\":{\"id\":\"3293\"},\"y_scale\":{\"id\":\"3297\"}},\"id\":\"3288\",\"subtype\":\"Figure\",\"type\":\"Plot\"},{\"attributes\":{},\"id\":\"3312\",\"type\":\"HelpTool\"},{\"attributes\":{\"line_color\":\"coral\",\"line_width\":1.5,\"x\":{\"field\":\"fpr\"},\"y\":{\"field\":\"tpr\"}},\"id\":\"3323\",\"type\":\"Line\"},{\"attributes\":{\"format\":\"0%\"},\"id\":\"3346\",\"type\":\"NumeralTickFormatter\"},{\"attributes\":{},\"id\":\"3311\",\"type\":\"ResetTool\"},{\"attributes\":{},\"id\":\"3329\",\"type\":\"AllLabels\"},{\"attributes\":{\"active_multi\":null,\"tools\":[{\"id\":\"3307\"},{\"id\":\"3308\"},{\"id\":\"3309\"},{\"id\":\"3310\"},{\"id\":\"3311\"},{\"id\":\"3312\"}]},\"id\":\"3314\",\"type\":\"Toolbar\"},{\"attributes\":{\"source\":{\"id\":\"3321\"}},\"id\":\"3326\",\"type\":\"CDSView\"},{\"attributes\":{\"source\":{\"id\":\"3321\"}},\"id\":\"3343\",\"type\":\"CDSView\"},{\"attributes\":{\"items\":[{\"id\":\"3338\"}],\"label_text_font_size\":\"8pt\",\"location\":\"bottom_right\"},\"id\":\"3337\",\"type\":\"Legend\"},{\"attributes\":{\"axis\":{\"id\":\"3303\"},\"dimension\":1,\"ticker\":null},\"id\":\"3306\",\"type\":\"Grid\"},{\"attributes\":{},\"id\":\"3307\",\"type\":\"PanTool\"},{\"attributes\":{},\"id\":\"3297\",\"type\":\"LinearScale\"},{\"attributes\":{},\"id\":\"3335\",\"type\":\"Selection\"},{\"attributes\":{\"axis\":{\"id\":\"3299\"},\"grid_line_color\":null,\"ticker\":null},\"id\":\"3302\",\"type\":\"Grid\"},{\"attributes\":{},\"id\":\"3308\",\"type\":\"WheelZoomTool\"},{\"attributes\":{},\"id\":\"3293\",\"type\":\"DataRange1d\"},{\"attributes\":{},\"id\":\"3291\",\"type\":\"DataRange1d\"},{\"attributes\":{\"axis_label\":\"True Positive Rate\",\"formatter\":{\"id\":\"3346\"},\"major_label_policy\":{\"id\":\"3332\"},\"ticker\":{\"id\":\"3304\"}},\"id\":\"3303\",\"type\":\"LinearAxis\"},{\"attributes\":{\"data_source\":{\"id\":\"3321\"},\"glyph\":{\"id\":\"3323\"},\"hover_glyph\":null,\"muted_glyph\":null,\"nonselection_glyph\":{\"id\":\"3324\"},\"view\":{\"id\":\"3326\"}},\"id\":\"3325\",\"type\":\"GlyphRenderer\"},{\"attributes\":{\"label\":{\"value\":\"AUROC: 68.07%\"},\"renderers\":[{\"id\":\"3325\"}]},\"id\":\"3338\",\"type\":\"LegendItem\"},{\"attributes\":{},\"id\":\"3336\",\"type\":\"UnionRenderers\"},{\"attributes\":{\"overlay\":{\"id\":\"3313\"}},\"id\":\"3309\",\"type\":\"BoxZoomTool\"},{\"attributes\":{\"data\":{\"fpr\":{\"__ndarray__\":\"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\",\"dtype\":\"float64\",\"order\":\"little\",\"shape\":[562]},\"thr\":{\"__ndarray__\":\"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\",\"dtype\":\"float32\",\"order\":\"little\",\"shape\":[562]},\"tpr\":{\"__ndarray__\":\"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\",\"dtype\":\"float64\",\"order\":\"little\",\"shape\":[562]}},\"selected\":{\"id\":\"3335\"},\"selection_policy\":{\"id\":\"3336\"}},\"id\":\"3321\",\"type\":\"ColumnDataSource\"},{\"attributes\":{\"data_source\":{\"id\":\"3321\"},\"glyph\":{\"id\":\"3340\"},\"hover_glyph\":null,\"muted_glyph\":null,\"nonselection_glyph\":{\"id\":\"3341\"},\"view\":{\"id\":\"3343\"}},\"id\":\"3342\",\"type\":\"GlyphRenderer\"},{\"attributes\":{\"line_dash\":[6],\"x\":{\"field\":\"fpr\"},\"y\":{\"field\":\"fpr\"}},\"id\":\"3340\",\"type\":\"Line\"},{\"attributes\":{\"bottom_units\":\"screen\",\"fill_alpha\":0.5,\"fill_color\":\"lightgrey\",\"left_units\":\"screen\",\"level\":\"overlay\",\"line_alpha\":1.0,\"line_color\":\"black\",\"line_dash\":[4,4],\"line_width\":2,\"right_units\":\"screen\",\"syncable\":false,\"top_units\":\"screen\"},\"id\":\"3313\",\"type\":\"BoxAnnotation\"},{\"attributes\":{\"line_alpha\":0.1,\"line_color\":\"coral\",\"line_width\":1.5,\"x\":{\"field\":\"fpr\"},\"y\":{\"field\":\"tpr\"}},\"id\":\"3324\",\"type\":\"Line\"},{\"attributes\":{},\"id\":\"3332\",\"type\":\"AllLabels\"},{\"attributes\":{},\"id\":\"3300\",\"type\":\"BasicTicker\"},{\"attributes\":{\"line_alpha\":0.1,\"line_dash\":[6],\"x\":{\"field\":\"fpr\"},\"y\":{\"field\":\"fpr\"}},\"id\":\"3341\",\"type\":\"Line\"},{\"attributes\":{\"align\":\"center\",\"text\":\"AutoEncoder: ROC Curve\",\"text_font_size\":\"12pt\"},\"id\":\"3289\",\"type\":\"Title\"},{\"attributes\":{},\"id\":\"3295\",\"type\":\"LinearScale\"},{\"attributes\":{},\"id\":\"3304\",\"type\":\"BasicTicker\"},{\"attributes\":{\"axis_label\":\"False Positive Rate\",\"formatter\":{\"id\":\"3344\"},\"major_label_policy\":{\"id\":\"3329\"},\"ticker\":{\"id\":\"3300\"}},\"id\":\"3299\",\"type\":\"LinearAxis\"},{\"attributes\":{},\"id\":\"3310\",\"type\":\"SaveTool\"},{\"attributes\":{\"format\":\"0%\"},\"id\":\"3344\",\"type\":\"NumeralTickFormatter\"}],\"root_ids\":[\"3288\"]},\"title\":\"Bokeh Application\",\"version\":\"2.3.3\"}};\n",
       "  var render_items = [{\"docid\":\"0b8f8eef-0ec9-4392-8615-9c8fd39dbcbd\",\"root_ids\":[\"3288\"],\"roots\":{\"3288\":\"cdc676de-f9c6-4f94-9439-7af9904f88f1\"}}];\n",
       "  root.Bokeh.embed.embed_items_notebook(docs_json, render_items);\n",
       "\n",
       "  }\n",
       "  if (root.Bokeh !== undefined) {\n",
       "    embed_document(root);\n",
       "  } else {\n",
       "    var attempts = 0;\n",
       "    var timer = setInterval(function(root) {\n",
       "      if (root.Bokeh !== undefined) {\n",
       "        clearInterval(timer);\n",
       "        embed_document(root);\n",
       "      } else {\n",
       "        attempts++;\n",
       "        if (attempts > 100) {\n",
       "          clearInterval(timer);\n",
       "          console.log(\"Bokeh: ERROR: Unable to run BokehJS code because BokehJS library is missing\");\n",
       "        }\n",
       "      }\n",
       "    }, 10, root)\n",
       "  }\n",
       "})(window);"
      ],
      "application/vnd.bokehjs_exec.v0+json": ""
     },
     "metadata": {
      "application/vnd.bokehjs_exec.v0+json": {
       "id": "3288"
      }
     },
     "output_type": "display_data"
    }
   ],
   "source": [
    "plot_roc_curve(\n",
    "    roc_curve(test_labels, recon_errors),\n",
    "    roc_auc_score(test_labels, recon_errors),\n",
    "    model_name=MODEL_NAME,\n",
    "    file_name=os.path.join(IMAGE_PATH, \"roc_curve.svg\"),\n",
    ")"
   ]
  },
  {
   "cell_type": "code",
   "execution_count": 39,
   "id": "67dfe6d4-35cc-473a-968a-71dbe38551f2",
   "metadata": {},
   "outputs": [
    {
     "data": {
      "text/html": [
       "\n",
       "\n",
       "\n",
       "\n",
       "\n",
       "\n",
       "  <div class=\"bk-root\" id=\"84884ff8-a0aa-4249-9210-053330fdc051\" data-root-id=\"3568\"></div>\n"
      ]
     },
     "metadata": {},
     "output_type": "display_data"
    },
    {
     "data": {
      "application/javascript": [
       "(function(root) {\n",
       "  function embed_document(root) {\n",
       "    \n",
       "  var docs_json = {\"01d476c6-34c0-4b53-b013-f92aa4903e33\":{\"defs\":[],\"roots\":{\"references\":[{\"attributes\":{\"below\":[{\"id\":\"3579\"}],\"center\":[{\"id\":\"3582\"},{\"id\":\"3586\"},{\"id\":\"3617\"},{\"id\":\"3619\"}],\"height\":400,\"left\":[{\"id\":\"3583\"}],\"renderers\":[{\"id\":\"3605\"}],\"title\":{\"id\":\"3569\"},\"toolbar\":{\"id\":\"3594\"},\"x_range\":{\"id\":\"3571\"},\"x_scale\":{\"id\":\"3575\"},\"y_range\":{\"id\":\"3573\"},\"y_scale\":{\"id\":\"3577\"}},\"id\":\"3568\",\"subtype\":\"Figure\",\"type\":\"Plot\"},{\"attributes\":{\"line_alpha\":0.1,\"line_color\":\"coral\",\"x\":{\"field\":\"recall\"},\"y\":{\"field\":\"precision\"}},\"id\":\"3604\",\"type\":\"Line\"},{\"attributes\":{},\"id\":\"3615\",\"type\":\"Selection\"},{\"attributes\":{\"axis_label\":\"Recall\",\"formatter\":{\"id\":\"3621\"},\"major_label_policy\":{\"id\":\"3609\"},\"ticker\":{\"id\":\"3580\"}},\"id\":\"3579\",\"type\":\"LinearAxis\"},{\"attributes\":{\"format\":\"0%\"},\"id\":\"3621\",\"type\":\"NumeralTickFormatter\"},{\"attributes\":{\"line_color\":\"coral\",\"x\":{\"field\":\"recall\"},\"y\":{\"field\":\"precision\"}},\"id\":\"3603\",\"type\":\"Line\"},{\"attributes\":{\"axis_label\":\"Precision\",\"formatter\":{\"id\":\"3623\"},\"major_label_policy\":{\"id\":\"3612\"},\"ticker\":{\"id\":\"3584\"}},\"id\":\"3583\",\"type\":\"LinearAxis\"},{\"attributes\":{\"align\":\"center\",\"text\":\"AutoEncoder: Precision - Recall Curve\",\"text_font_size\":\"12pt\"},\"id\":\"3569\",\"type\":\"Title\"},{\"attributes\":{\"items\":[{\"id\":\"3618\"}],\"label_text_font_size\":\"8pt\"},\"id\":\"3617\",\"type\":\"Legend\"},{\"attributes\":{\"data\":{\"lower_band\":{\"__ndarray__\":\"AAAAAAAAAAAAAAAAAAAAAAAAAAAAAAAAAAAAAAAAAAAAAAAAAAAAAAAAAAAAAAAAAAAAAAAAAAAAAAAAAAAAAAAAAAAAAAAAAAAAAAAAAAAAAAAAAAAAAAAAAAAAAAAAAAAAAAAAAAAAAAAAAAAAAAAAAAAAAAAAAAAAAAAAAAAAAAAAAAAAAAAAAAAAAAAAAAAAAAAAAAAAAAAAAAAAAAAAAAAAAAAAAAAAAAAAAAAAAAAAAAAAAAAAAAAAAAAAAAAAAAAAAAAAAAAAAAAAAAAAAAAAAAAAAAAAAAAAAAAAAAAAAAAAAAAAAAAAAAAAAAAAAAAAAAAAAAAAAAAAAAAAAAAAAAAAAAAAAAAAAAAAAAAAAAAAAAAAAAAAAAAAAAAAAAAAAAAAAAAAAAAAAAAAAAAAAAAAAAAAAAAAAAAAAAAAAAAAAAAAAAAAAAAAAAAAAAAAAAAAAAAAAAAAAAAAAAAAAAAAAAAAAAAAAAAAAAAAAAAAAAAAAAAAAAAAAAAAAAAAAAAAAAAAAAAAAAAAAAAAAAAAAAAAAAAAAAAAAAAAAAAAAAAAAAAAAAAAAAAAAAAAAAAAAAAAAAAAAAAAAAAAAAAAAAAAAAAAAAAAAAAAAAAAAAAAAAAAAAAAAAAAAAAAAAAAAAAAAAAAAAAAAAAAAAAAAAAAAAAAAAAAAAAAAAAAAAAAAAAAAAAAAAAAAAAAAAAAAAAAAAAAAAAAAAAAAAAAAAAAAAAAAAAAAAAAAAAAAAAAAAAAAAAAAAAAAAAAAAAAAAAAAAAAAAAAAAAAAAAAAAAAAAAAAAAAAAAAAAAAAAAAAAAAAAAAAAAAAAAAAAAAAAAAAAAAAAAAAAAAAAAAAAAAAAAAAAAAAAAAAAAAAAAAAAAAAAAAAAAAAAAAAAAAAAAAAAAAAAAAAAAAAAAAAAAAAAAAAAAAAAAAAAAAAAAAAAAAAAAAAAAAAAAAAAAAAAAAAAAAAAAAAAAAAAAAAAAAAAAAAAAAAAAAAAAAAAAAAAAAAAAAAAAAAAAAAAAAAAAAAAAAAAAAAAAAAAAAAAAAAAAAAAAAAAAAAAAAAAAAAAAAAAAAAAAAAAAAAAAAAAAAAAAAAAAAAAAAAAAAAAAAAAAAAAAAAAAAAAAAAAAAAAAAAAAAAAAAAAAAAAAAAAAAAAAAAAAAAAAAAAAAAAAAAAAAAAAAAAAAAAAAAAAAAAAAAAAAAAAAAAAAAAAAAAAAAAAAAAAAAAAAAAAAAAAAAAAAAAAAAAAAAAAAAAAAAAAAAAAAAAAAAAAAAAAAAAAAAAAAAAAAAAAAAAAAAAAAAAAAAAAAAAAAAAAAAAAAAAAAAAAAAAAAAAAAAAAAAAAAAAAAAAAAAAAAAAAAAAAAAAAAAAAAAAAAAAAAAAAAAAAAAAAAAAAAAAAAAAAAAAAAAAAAAAAAAAAAAAAAAAAAAAAAAAAAAAAAAAAAAAAAAAAAAAAAAAAAAAAAAAAAAAAAAAAAAAAAAAAAAAAAAAAAAAAAAAAAAAAAAAAAAAAAAAAAAAAAAAAAAAAAAAAAAAAAAAAAAAAAAAAAAAAAAAAAAAAAAAAAAAAAAAAAAAAAAAAAAAAAAAAAAAAAAAAAAAAAAAAAAAAAAAAAAAAAAAAAAAAAAAAAAAAAAAAAAAAAAAAAAAAAAAAAAAAAAAAAAAAAAAAAAAAAAAAAAAAAAAAAAAAAAAAAAAAAAAAAAAAAAAAAAAAAAAAAAAAAAAAAAAAAAAAAAAAAAAAAAAAAAAAAAAAAAAAAAAAAAAAAAAAAAAAAAAAAAAAAAAAAAAAAAAAAAAAAAAAAAAAAAAAAAAAAAAAAAAAAAAAAAAAAAAAAAAAAAAAAAAAAAAAAAAAAAAAAAAAAAAAAAAAAAAAAAAAAAAAAAAAAAAAAAAAAAAAAAAAAAAAAAAAAAAAAAAAAAAAAAAAAAAAAAAAAAAAAAAAAAAAAAAAAAAAAAAAAAAAAAAAAAAAAAAAAAAAAAAAAAAAAAAAAAAAAAAAAAAAAAAAAAAAAAAAAAAAAAAAAAAAAAAAAAAAAAAAAAAAAAAAAAAAAAAAAAAAAAAAAAAAAAAAAAAAAAAAAAAAAAAAAAAAAAAAAAAAAAAAAAAAAAAAAAAAAAAAAAAAAAAAAAAAAAAAAAAAAAAAAAAAAAAAAAAAAAAAAAAAAAAAAAAAAAAAAAAAAAAAAAAAAAAAAAAAAAAAAAAAAAAAAAAAAAAAAAAAAAAAAAAAAAAAAAAAAAAAAAAAAAAAAAAAAAAAAAAAAAAAAAAAAAAAAAAAAAAAAAAAAAAAAAAAAAAAAAAAAAAAAAAAAAAAAAAAAAAAAAAAAAAAAAAAAAAAAAAAAAAAAAAAAAAAAAAAAAAAAAAAAAAAAAAAAAAAAAAAAAAAAAAAAAAAAAAAAAAAAAAAAAAAAAAAAAAAAAAAAAAAAAAAAAAAAAAAAAAAAAAAAAAAAAAAAAAAAAAAAAAAAAAAAAAAAAAAAAAAAAAAAAAAAAAAAAAAAAAAAAAAAAAAAAAAAAAAAAAAAAAAAAAAAAAAAAAAAAAAAAAAAAAAAAAAAAAAAAAAAAAAAAAAAAAAAAAAAAAAAAAAAAAAAAAAAAAAAAAAAAAAAAAAAAAAAAAAAAAAAAAAAAAAAAAAAAAAAAAAAAAAAAAAAAAAAAAAAAAAAAAAAAAAAAAAAAAAAAAAAAAAAAAAAAAAAAAAAAAAAAAAAAAAAAAAAAAAAAAAAAAAAAAAAAAAAAAAAAAAAAAAAAAAAAAAAAAAAAAAAAAAAAAAAAAAAAAAAAAAAAAAAAAAAAAAAAAAAAAAAAAAAAAAAAAAAAAAAAAAAAAAAAAAAAAAAAAAAAAAAAAAAAAAAAAAAAAAAAAAAAAAAAAAAAAAAAAAAAAAAAAAAAAAAAAAAAAAAAAAAAAAAAAAAAAAAAAAAAAAAAAAAAAAAAAAAAAAAAAAAAAAAAAAAAAAAAAAAAAAAAAAAAAAAAAAAAAAAAAAAAAAAAAAAAAAAAAAAAAAAAAAAAAAAAAAAAAAAAAAAAAAAAAAAAAAAAAAAAAAAAAAAAAAAAAAAAAAAAAAAAAAAAAAAAAAAAAAAAAAAAAAAAAAAAAAAAAAAAAAAAAAAAAAAAAAAAAAAAAAAAAAAAAAAAAAAAAAAAAAAAAAAAAAAAAAAAAAAAAAAAAAAAAAAAAAAAAAAAAAAAAAAAAAAAAAAAAAAAAAAAAAAAAAAAAAAAAAAAAAAAAAAAAAAAAAAAAAAAAAAAAAAAAAAAAAAAAAAAAAAAAAAAAAAAAAAAAAAAAAAAAAAAAAAAAAAAAAAAAAAAAAAAAAAAAAAAAAAAAAAAAAAAAAAAAAAAAAAAAAAAAAAAAAAAAAAAAAAAAAAAAAAAAAAAAAAAAAAAAAAAAAAAAAAAAAAAAAAAAAAAAAAAAAAAAAAAAAAAAAAAAAAAAAAAAAAAAAAAAAAAAAAAAAAAAAAAAAAAAAAAAAAAAAAAAAAAAAAAAAAAAAAAAAAAAAAAAAAAAAAAAAAAAAAAAAAAAAAAAAAAAAAAAAAAAAAAAAAAAAAAAAAAAAAAAAAAAAAAAAAAAAAAAAAAAAAAAAAAAAAAAAAAAAAAAAAAAAAAAAAAAAAAAAAAAAAAAAAAAAAAAAAAAAAAAAAAAAAAAAAAAAAAAAAAAAAAAAAAAAAAAAAAAAAAAAAAAAAAAAAAAAAAAAAAAAAAAAAAAAAAAAAAAAAAAAAAAAAAAAAAAAAAAAAAAAAAAAAAAAAAAAAAAAAAAAAAAAAAAAAAAAAAAAAAAAAAAAAAAAAAAAAAAAAAAAAAAAAAAAAAAAAAAAAAAAAAAAAAAAAAAAAAAAAAAAAAAAAAAAAAAAAAAAAAAAAAAAAAAAAAAAAAAAAAAAAAAAAAAAAAAAAAAAAAAAAAAAAAAAAAAAAAAAAAAAAAAAAAAAAAAAAAAAAAAAAAAAAAAAAAAAAAAAAAAAAAAAAAAAAAAAAAAAAAAAAAAAAAAAAAAAAAAAAAAAAAAAAAAAAAAAAAAAAAAAAAAAAAAAAAAAAAAAAAAAAAAAAAAAAAAAAAAAAAAAAAAAAAAAAAAAAAAAAAAAAAAAAAAAAAAAAAAAAAAAAAAAAAAAAAAAAAAAAAAAAAAAAAAAAAAAAAAAAAAAAAAAAAAAAAAAAAAAAAAAAAAAAAAAAAAAAAAAAAAAAAAAAAAAAAAAAAAAAAAAAAAAAAAAAAAAAAAAAAAAAAAAAAAAAAAAAAAAAAAAAAAAAAAAAAAAAAAAAAAAAAAAAAAAAAAAAAAAAAAAAAAAAAAAAAAAAAAAAAAAAAAAAAAAAAAAAAAAAAAAAAAAAAAAAAAAAAAAAAAAAAAAAAAAAAAAAAAAAAAAAAAAAAAAAAAAAAAAAAAAAAAAAAAAAAAAAAAAAAAAAAAAAAAAAAAAAAAAAAAAAAAAAAAAAAAAAAAAAAAAAAAAAAAAAAAAAAAAAAAAAAAAAAAAAAAAAAAAAAAAAAAAAAAAAAAAAAAAAAAAAAAAAAAAAAAAAAAAAAAAAAAAAAAAAAAAAAAAAAAAAAAAAAAAAAAAAAAAAAAAAAAAAAAAAAAAAAAAAAAAAAAAAAAAAAAAAAAAAAAAAAAAAAAAAAAAAAAAAAAAAAAAAAAAAAAAAAAAAAAAAAAAAAAAAAAAAAAAAAAAAAAAAAAAAAAAAAAAAAAAAAAAAAAAAAAAAAAAAAAAAAAAAAAAAAAAAAAAAAAAAAAAAAAAAAAAAAAAAAAAAAAAAAAAAAAAAAAAAAAAAAAAAAAAAAAAAAAAAAAAAAAAAAAAAAAAAAAAAAAAAAAAAAAAAAAAAAAAAAAAAAAAAAAAAAAAAAAAAAAAAAAAAAAAAAAAAAAAAAAAAAAAAAAAAAAAAAAAAAAAAAAAAAAAAAAAAAAAAAAAAAAAAAAAAAAAAAAAAAAAAAAAAAAAAAAAAAAAAAAAAAAAAAAAAAAAAAAAAAAAAAAAAAAAAAAAAAAAAAAAAAAAAAAAAAAAAAAAAAAAAAAAAAAAAAAAAAAAAAAAAAAAAAAAAAAAAAAAAAAAAAAAAAAAAAAAAAAAAAAAAAAAAAAAAAAAAAAAAAAAAAAAAAAAAAAAAAAAAAAAAAAAAAAAAAAAAAAAAAAAAAAAAAAAAAAAAAAAAAAAAAAAAAAAAAAAAAAAAAAAAAAAAAAAAAAAAAAAAAAAAAAAAAAAAAAAAAAAAAAAAAAAAAAAAAAAAAAAAAAAAAAAAAAAAAAAAAAAAAAAAAAAAAAAAAAAAAAAAAAAAAAAAAAAAAAAAAAAAAAAAAAAAAAAAAAAAAAAAAAAAAAAAAAAAAAAAAAAAAAAAAAAAAAAAAAAAAAAAAAAAAAAAAAAAAAAAAAAAAAAAAAAAAAAAAAAAAAAAAAAAAAAAAAAAAAAAAAAAAAAAAAAAAAAAAAAAAAAAAAAAAAAAAAAAAAAAAAAAAAAAAAAAAAAAAAAAAAAAAAAAAAAAAAAAAAAAAAAAAAAAAAAAAAAAAAAAAAAAAAAAAAAAAAAAAAAAAAAAAAAAAAAAAAAAAAAAAAAAAAAAAAAAAAAAAAAAAAAAAAAAAAAAAAAAAAAAAAAAAAAAAAAAAAAAAAAAAAAAAAAAAAAAAAAAAAAAAAAAAAAAAAAAAAAAAAAAAAAAAAAAAAAAAAAAAAAAAAAAAAAAAAAAAAAAAAAAAAAAAAAAAAAAAAAAAAAAAAAAAAAAAAAAAAAAAAAAAAAAAAAAAAAAAAAAAAAAAAAAAAAAAAAAAAAAAAAAAAAAAAAAAAAAAAAAAAAAAAAAAAAAAAAAAAAAAAAAAAAAAAAAAAAAAAAAAAAAAAAAAAAAAAAAAAAAAAAAAAAAAAAAAAAAAAAAAAAAAAAAAAAAAAAAAAAAAAAAAAAAAAAAAAAAAAAAAAAAAAAAAAAAAAAAAAAAAAAAAAAAAAAAAAAAAAAAAAAAAAAAAAAAAAAAAAAAAAAAAAAAAAAAAAAAAAAAAAAAAAAAAAAAAAAAAAAAAAAAAAAAAAAAAAAAAAAAAAAAAAAAAAAAAAAAAAAAAAAAAAAAAAAAAAAAAAAAAAAAAAAAAAAAAAAAAAAAAAAAAAAAAAAAAAAAAAAAAAAAAAAAAAAAAAAAAAAAAAAAAAAAAAAAAAAAAAAAAAAAAAAAAAAAAAAAAAAAAAAAAAAAAAAAAAAAAAAAAAAAAAAAAAAAAAAAAAAAAAAAAAAAAAAAAAAAAAAAAAAAAAAAAAAAAAAAAAAAAAAAAAAAAAAAAAAAAAAAAAAAAAAAAAAAAAAAAAAAAAAAAAAAAAAAAAAAAAAAAAAAAAAAAAAAAAAAAAAAAAAAAAAAAAAAAAAAAAAAAAAAAAAAAAAAAAAAAAAAAAAAAAAAAAAAAAAAAAAAAAAAAAAAAAAAAAAAAAAAAAAAAAAAAAAAAAAAAAAAAAAAAAAAAAAAAAAAAAAAAAAAAAAAAAAAAAAAAAAAAAAAAAAAAAAAAAAAAAAAAAAAAAAAAAAAAAAAAAAAAAAAAAAAAAAAAAAAAAAAAAAAAAAAAAAAAAAAAAAAAAAAAAAAAAAAAAAAAAAAAAAAAAAAAAAAAAAAAAAAAAAAAAAAAAAAAAAAAAAAAAAAAAAAAAAAAAAAAAAAAAAAAAAAAAAAAAAAAAAAAAAAAAAAAAAAAAAAAAAAAAAAAAAAAAAAAAAAAAAAAAAAAAAAAAAAAAAAAAAAAAAAAAAAAAAAAAAAAAAAAAAAAAAAAAAAAAAAAAAAAAAAAAAAAAAAAAAAAAAAAAAAAAAAAAAAAAAAAAAAAAAAAAAAAAAAAAAAAAAAAAAAAAAAAAAAAAAAAAAAAAAAAAAAAAAAAAAAAAAAAAAAAAAAAAAAAAAAAAAAAAAAAAAAAAAAAAAAAAAAAAAAAAAAAAAAAAAAAAAAAAAAAAAAAAAAAAAAAAAAAAAAAAAAAAAAAAAAAAAAAAAAAAAAAAAAAAAAAAAAAAAAAAAAAAAAAAAAAAAAAAAAAAAAAAAAAAAAAAAAAAAAAAAAAAAAAAAAAAAAAAAAAAAAAAAAAAAAAAAAAAAAAAAAAAAAAAAAAAAAAAAAAAAAAAAAAAAAAAAAAAAAAAAAAAAAAAAAAAAAAAAAAAAAAAAAAAAAAAAAAAAAAAAAAAAAAAAAAAAAAAAAAAAAAAAAAAAAAAAAAAAAAAAAAAAAAAAAAAAAAAAAAAAAAAAAAAAAAAAAAAAAAAAAAAAAAAAAAAAAAAAAAAAAAAAAAAAAAAAAAAAAAAAAAAAAAAAAAAAAAAAAAAAAAAAAAAAAAAAAAAAAAAAAAAAAAAAAAAAAAAAAAAAAAAAAAAAAAAAAAAAAAAAAAAAAAAAAAAAAAAAAAAAAAAAAAAAAAAAAAAAAAAAAAAAAAAAAAAAAAAAAAAAAAAAAAAAAAAAAAAAAAAAAAAAAAAAAAAAAAAAAAAAAAAAAAAAAAAAAAAAAAAAAAAAAAAAAAAAAAAAAAAAAAAAAAAAAAAAAAAAAAAAAAAAAAAAAAAAAAAAAAAAAAAAAAAAAAAAAAAAAAAAAAAAAAAAAAAAAAAAAAAAAAAAAAAAAAAAAAAAAAAAAAAAAAAAAAAAAAAAAAAAAAAAAAAAAAAAAAAAAAAAAAAAAAAAAAAAAAAAAAAAAAAAAAAAAAAAAAAAAAAAAAAAAAAAAAAAAAAAAAAAAAAAAAAAAAAAAAAAAAAAAAAAAAAAAAAAAAAAAAAAAAAAAAAAAAAAAAAAAAAAAAAAAAAAAAAAAAAAAAAAAAAAAAAAAAAAAAAAAAAAAAAAAAAAAAAAAAAAAAAAAAAAAAAAAAAAAAAAAAAAAAAAAAAAAAAAAAAAAAAAAAAAAAAAAAAAAAAAAAAAAAAAAAAAAAAAAAAAAAAAAAAAAAAAAAAAAAAAAAAAAAAAAAAAAAAAAAAAAAAAAAAAAAAAAAAAAAAAAAAAAAAAAAAAAAAAAAAAAAAAAAAAAAAAAAAAAAAAAAAAAAAAAAAAAAAAAAAAAAAAAAAAAAAAAAAAAAAAAAAAAAAAAAAAAAAAAAAAAAAAAAAAAAAAAAAAAAAAAAAAAAAAAAAAAAAAAAAAAAAAAAAAAAAAAAAAAAAAAAAAAAAAAAAAAAAAAAAAAAAAAAAAAAAAAAAAAAAAAAAAAAAAAAAAAAAAAAAAAAAAAAAAAAAAAAAAAAAAAAAAAAAAAAAAAAAAAAAAAAAAAAAAAAAAAAAAAAAAAAAAAAAAAAAAAAAAAAAAAAAAAAAAAAAAAAAAAAAAAAAAAAAAAAAAAAAAAAAAAAAAAAAAAAAAAAAAAAAAAAAAAAAAAAAAAAAAAAAAAAAAAAAAAAAAAAAAAAAAAAAAAAAAAAAAAAAAAAAAAAAAAAAAAAAAAAAAAAAAAAAAAAAAAAAAAAAAAAAAAAAAAAAAAAAAAAAAAAAAAAAAAAAAAAAAAAAAAAAAAAAAAAAAAAAAAAAAAAAAAAAAAAAAAAAAAAAAAAAAAAAAAAAAAAAAAAAAAAAAAAAAAAAAAAAAAAAAAAAAAAAAAAAAAAAAAAAAAAAAAAAAAAAAAAAAAAAAAAAAAAAAAAAAAAAAAAAAAAAAAAAAAAAAAAAAAAAAAAAAAAAAAAAAAAAAAAAAAAAAAAAAAAAAAAAAAAAAAAAAAAAAAAAAAAAAAAAAAAAAAAAAAAAAAAAAAAAAAAAAAAAAAAAAAAAAAAAAAAAAAAAAAAAAAAAAAAAAAAAAAAAAAAAAAAAAAAAAAAAAAAAAAAAAAAAAAAAAAAAAAAAAAAAAAAAAAAAAAAAAAAAAAAAAAAAAAAAAAAAAAAAAAAAAAAAAAAAAAAAAAAAAAAAAAAAAAAAAAAAAAAAAAAAAAAAAAAAAAAAAAAAAAAAAAAAAAAAAAAAAAAAAAAAAAAAAAAAAAAAAAAAAAAAAAAAAAAAAAAAAAAAAAAAAAAAAAAAAAAAAAAAAAAAAAAAAAAAAAAAAAAAAAAAAAAAAAAAAAAAAAAAAAAAAAAAAAAAAAAAAAAAAAAAAAAAAAAAAAAAAAAAAAAAAAAAAAAAAAAAAAAAAAAAAAAAAAAAAAAAAAAAAAAAAAAAAAAAAAAAAAAAAAAAAAAAAAAAAAAAAAAAAAAAAAAAAAAAAAAAAAAAAAAAAAAAAAAAAAAAAAAAAAAAAAAAAAAAAAAAAAAAAAAAAAAAAAAAAAAAAAAAAAAAAAAAAAAAAAAAAAAAAAAAAAAAAAAAAAAAAAAAAAAAAAAAAAAAAAAAAAAAAAAAAAAAAAAAAAAAAAAAAAAAAAAAAAAAAAAAAAAAAAAAAAAAAAAAAAAAAAAAAAAAAAAAAAAAAAAAAAAAAAAAAAAAAAAAAAAAAAAAAAAAAAAAAAAAAAAAAAAAAAAAAAAAAAAAAAAAAAAAAAAAAAAAAAAAAAAAAAAAAAAAAAAAAAAAAAAAAAAAAAAAAAAAAAAAAAAAAAAAAAAAAAAAAAAAAAAAAAAAAAAAAAAAAAAAAAAAAAAAAAAAAAAAAAAAAAAAAAAAAAAAAAAAAAAAAAAAAAAAAAAAAAAAAAAAAAAAAAAAAAAAAAAAAAAAAAAAAAAAAAAAAAAAAAAAAAAAAAAAAAAAAAAAAAAAAAAAAAAAAAAAAAAAAAAAAAAAAAAAAAAAAAAAAAAAAAAAAAAAAAAAAAAAAAAAAAAAAAAAAAAAAAAAAAAAAAAAAAAAAAAAAAAAAAAAAAAAAAAAAAAAAAAAAAAAAAAAAAAAAAAAAAAAAAAAAAAAAAAAAAAAAAAAAAAAAAAAAAAAAAAAAAAAAAAAAAAAAAAAAAAAAAAAAAAAAAAAAAAAAAAAAAAAAAAAAAAAAAAAAAAAAAAAAAAAAAAAAAAAAAAAAAAAAAAAAAAAAAAAAAAAAAAAAAAAAAAAAAAAAAAAAAAAAAAAAAAAAAAAAAAAAAAAAAAAAAAAAAAAAAAAAAAAAAAAAAAAAAAAAAAAAAAAAAAAAAAAAAAAAAAAAAAAAAAAAAAAAAAAAAAAAAAAAAAAAAAAAAAAAAAAAAAAAAAAAAAAAAAAAAAAAAAAAAAAAAAAAAAAAAAAAAAAAAAAAAAAAAAAAAAAAAAAAAAAAAAAAAAAAAAAAAAAAAAAAAAAAAAAAAAAAAAAAAAAAAAAAAAAAAAAAAAAAAAAAAAAAAAAAAAAAAAAAAAAAAAAAAAAAAAAAAAAAAAAAAAAAAAAAAAAAAAAAAAAAAAAAAAAAAAAAAAAAAAAAAAAAAAAAAAAAAAAAAAAAAAAAAAAAAAAAAAAAAAAAAAAAAAAAAAAAAAAAAAAAAAAAAAAAAAAAAAAAAAAAAAAAAAAAAAAAAAAAAAAAAAAAAAAAAAAAAAAAAAAAAAAAAAAAAAAAAAAAAAAAAAAAAAAAAAAAAAAAAAAAAAAAAAAAAAAAAAAAAAAAAAAAAAAAAAAAAAAAAAAAAAAAAAAAAAAAAAAAAAAAAAAAAAAAAAAAAAAAAAAAAAAAAAAAAAAAAAAAAAAAAAAAAAAAAAAAAAAAAAAAAAAAAAAAAAAAAAAAAAAAAAAAAAAAAAAAAAAAAAAAAAAAAAAAAAAAAAAAAAAAAAAAAAAAAAAAAAAAAAAAAAAAAAAAAAAAAAAAAAAAAAAAAAAAAAAAAAAAAAAAAAAAAAAAAAAAAAAAAAAAAAAAAAAAAAAAAAAAAAAAAAAAAAAAAAAAAAAAAAAAAAAAAAAAAAAAAAAAAAAAAAAAAAAAAAAAAAAAAAAAAAAAAAAAAAAAAAAAAAAAAAAAAAAAAAAAAAAAAAAAAAAAAAAAAAAAAAAAAAAAAAAAAAAAAAAAAAAAAAAAAAAAAAAAAAAAAAAAAAAAAAAAAAAAAAAAAAAAAAAAAAAAAAAAAAAAAAAAAAAAAAAAAAAAAAAAAAAAAAAAAAAAAAAAAAAAAAAAAAAAAAAAAAAAAAAAAAAAAAAAAAAAAAAAAAAAAAAAAAAAAAAAAAAAAAAAAAAAAAAAAAAAAAAAAAAAAAAAAAAAAAAAAAAAAAAAAAAAAAAAAAAAAAAAAAAAAAAAAAAAAAAAAAAAAAAAAAAAAAAAAAAAAAAAAAAAAAAAAAAAAAAAAAAAAAAAAAAAAAAAAAAAAAAAAAAAAAAAAAAAAAAAAAAAAAAAAAAAAAAAAAAAAAAAAAAAAAAAAAAAAAAAAAAAAAAAAAAAAAAAAAAAAAAAAAAAAAAAAAAAAAAAAAAAAAAAAAAAAAAAAAAAAAAAAAAAAAAAAAAAAAAAAAAAAAAAAAAAAAAAAAAAAAAAAAAAAAAAAAAAAAAAAAAAAAAAAAAAAAAAAAAAAAAAAAAAAAAAAAAAAAAAAAAAAAAAAAAAAAAAAAAAAAAAAAAAAAAAAAAAAAAAAAAAAAAAAAAAAAAAAAAAAAAAAAAAAAAAAAAAAAAAAAAAAAAAAAAAAAAAAAAAAAAAAAAAAAAAAAAAAAAAAAAAAAAAAAAAAAAAAAAAAAAAAAAAAAAAAAAAAAAAAAAAAAAAAAAAAAAAAAAAAAAAAAAAAAAAAAAAAAAAAAAAAAAAAAAAAAAAAAAAAAAAAAAAAAAAAAAAAAAAAAAAAAAAAAAAAAAAAAAAAAAAAAAAAAAAAAAAAAAAAAAAAAAAAAAAAAAAAAAAAAAAAAAAAAAAAAAAAAAAAAAAAAAAAAAAAAAAAAAAAAAAAAAAAAAAAAAAAAAAAAAAAAAAAAAAAAAAAAAAAAAAAAAAAAAAAAAAAAAAAAAAAAAAAAAAAAAAAAAAAAAAAAAAAAAAAAAAAAAAAAAAAAAAAAAAAAAAAAAAAAAAAAAAAAAAAAAAAAAAAAAAAAAAAAAAAAAAAAAAAAAAAAAAAAAAAAAAAAAAAAAAAAAAAAAAAAAAAAAAAAAAAAAAAAAAAAAAAAAAAAAAAAAAAAAAAAAAAAAAAAAAAAAAAAAAAAAAAAAAAAAAAAAAAAAAAAAAAAAAAAAAAAAAAAAAAAAAAAAAAAAAAAAAAAAAAAAAAAAAAAAAAAAAAAAAAAAAAAAAAAAAAAAAAAAAAAAAAAAAAAAAAAAAAAAAAAAAAAAAAAAAAAAAAAAAAAAAAAAAAAAAAAAAAAAAAAAAAAAAAAAAAAAAAAAAAAAAAAAAAAAAAAAAAAAAAAAAAAAAAAAAAAAAAAAAAAAAAAAAAAAAAAAAAAAAAAAAAAAAAAAAAAAAAAAAAAAAAAAAAAAAAAAAAAAAAAAAAAAAAAAAAAAAAAAAAAAAAAAAAAAAAAAAAAAAAAAAAAAAAAAAAAAAAAAAAAAAAAAAAAAAAAAAAAAAAAAAAAAAAAAAAAAAAAAAAAAAAAAAAAAAAAAAAAAAAAAAAAAAAAAAAAAAAAAAAAAAAAAAAAAAAAAAAAAAAAAAAAAAAAAAAAAAAAAAAAAAAAAAAAAAAAAAAAAAAAAAAAAAAAAAAAAAAAAAAAAAAAAAAAAAAAAAAAAAAAAAAAAAAAAAAAAAAAAAAAAAAAAAAAAAAAAAAAAAAAAAAAAAAAAAAAAAAAAAAAAAAAAAAAAAAAAAAAAAAAAAAAAAAAAAAAAAAAAAAAAAAAAAAAAAAAAAAAAAAAAAAAAAAAAAAAAAAAAAAAAAAAAAAAAAAAAAAAAAAAAAAAAAAAAAAAAAAAAAAAAAAAAAAAAAAAAAAAAAAAAAAAAAAAAAAAAAAAAAAAAAAAAAAAAAAAAAAAAAAAAAAAAAAAAAAAAAAAAAAAAAAAAAAAAAAAAAAAAAAAAAAAAAAAAAAAAAAAAAAAAAAAAAAAAAAAAAAAAAAAAAAAAAAAAAAAAAAAAAAAAAAAAAAAAAAAAAAAAAAAAAAAAAAAAAAAAAAAAAAAAAAAAAAAAAAAAAAAAAAAAAAAAAAAAAAAAAAAAAAAAAAAAAAAAAAAAAAAAAAAAAAAAAAAAAAAAAAAAAAAAAAAAAAAAAAAAAAAAAAAAAAAAAAAAAAAAAAAAAAAAAAAAAAAAAAAAAAAAAAAAAAAAAAAAAAAAAAAAAAAAAAAAAAAAAAAAAAAAAAAAAAAAAAAAAAAAAAAAAAAAAAAAAAAAAAAAAAAAAAAAAAAAAAAAAAAAAAAAAAAAAAAAAAAAAAAAAAAAAAAAAAAAAAAAAAAAAAAAAAAAAAAAAAAAAAAAAAAAAAAAAAAAAAAAAAAAAAAAAAAAAAAAAAAAAAAAAAAAAAAAAAAAAAAAAAAAAAAAAAAAAAAAAAAAAAAAAAAAAAAAAAAAAAAAAAAAAAAAAAAAAAAAAAAAAAAAAAAAAAAAAAAAAAAAAAAAAAAAAAAAAAAAAAAAAAAAAAAAAAAAAAAAAAAAAAAAAAAAAAAAAAAAAAAAAAAAAAAAAAAAAAAAAAAAAAAAAAAAAAAAAAAAAAAAAAAAAAAAAAAAAAAAAAAAAAAAAAAAAAAAAAAAAAAAAAAAAAAAAAAAAAAAAAAAAAAAAAAAAAAAAAAAAAAAAAAAAAAAAAAAAAAAAAAAAAAAAAAAAAAAAAAAAAAAAAAAAAAAAAAAAAAAAAAAAAAAAAAAAAAAAAAAAAAAAAAAAAAAAAAAAAAAAAAAAAAAAAAAAAAAAAAAAAAAAAAAAAAAAAAAAAAAAAAAAAAAAAAAAAAAAAAAAAAAAAAAAAAAAAAAAAAAAAAAAAAAAAAAAAAAAAAAAAAAAAAAAAAAAAAAAAAAAAAAAAAAAAAAAAAAAAAAAAAAAAAAAAAAAAAAAAAAAAAAAAAAAAAAAAAAAAAAAAAAAAAAAAAAAAAAAAAAAAAAAAAAAAAAAAAAAAAAAAAAAAAAAAAAAAAAAAAAAAAAAAAAAAAAAAAAAAAAAAAAAAAAAAAAAAAAAAAAAAAAAAAAAAAAAAAAAAAAAAAAAAAAAAAAAAAAAAAAAAAAAAAAAAAAAAAAAAAAAAAAAAAAAAAAAAAAAAAAAAAAAAAAAAAAAAAAAAAAAAAAAAAAAAAAAAAAAAAAAAAAAAAAAAAAAAAAAAAAAAAAAAAAAAAAAAAAAAAAAAAAAAAAAAAAAAAAAAAAAAAAAAAAAAAAAAAAAAAAAAAAAAAAAAAAAAAAAAAAAAAAAAAAAAAAAAAAAAAAAAAAAAAAAAAAAAAAAAAAAAAAAAAAAAAAAAAAAAAAAAAAAAAAAAAAAAAAAAAAAAAAAAAAAAAAAAAAAAAAAAAAAAAAAAAAAAAAAAAAAAAAAAAAAAAAAAAAAAAAAAAAAAAAAAAAAAAAAAAAAAAAAAAAAAAAAAAAAAAAAAAAAAAAAAAAAAAAAAAAAAAAAAAAAAAAAAAAAAAAAAAAAAAAAAAAAAAAAAAAAAAAAAAAAAAAAAAAAAAAAAAAAAAAAAAAAAAAAAAAAAAAAAAAAAAAAAAAAAAAAAAAAAAAAAAAAAAAAAAAAAAAAAAAAAAAAAAAAAAAAAAAAAAAAAAAAAAAAAAAAAAAAAAAAAAAAAAAAAAAAAAAAAAAAAAAAAAAAAAAAAAAAAAAAAAAAAAAAAAAAAAAAAAAAAAAAAAAAAAAAAAAAAAAAAAAAAAAAAAAAAAAAAAAAAAAAAAAAAAAAAAAAAAAAAAAAAAAAAAAAAAAAAAAAAAAAAAAAAAAAAAAAAAAAAAAAAAAAAAAAAAAAAAAAAAAAAAAAAAAAAAAAAAAAAAAAAAAAAAAAAAAAAAAAAAAAAAAAAAAAAAAAAAAAAAAAAAAAAAAAAAAAAAAAAAAAAAAAAAAAAAAAAAAAAAAAAAAAAAAAAAAAAAAAAAAAAAAAAAAAAAAAAAAAAAAAAAAAAAAAAAAAAAAAAAAAAAAAAAAAAAAAAAAAAAAAAAAAAAAAAAAAAAAAAAAAAAAAAAAAAAAAAAAAAAAAAAAAAAAAAAAAAAAAAAAAAAAAAAAAAAAAAAAAAAAAAAAAAAAAAAAAAAAAAAAAAAAAAAAAAAAAAAAAAAAAAAAAAAAAAAAAAAAAAAAAAAAAAAAAAAAAAAAAAAAAAAAAAAAAAAAAAAAAAAAAAAAAAAAAAAAAAAAAAAAAAAAAAAAAAAAAAAAAAAAAAAAAAAAAAAAAAAAAAAAAAAAAAAAAAAAAAAAAAAAAAAAAAAAAAAAAAAAAAAAAAAAAAAAAAAAAAAAAAAAAAAAAAAAAAAAAAAAAAAAAAAAAAAAAAAAAAAAAAAAAAAAAAAAAAAAAAAAAAAAAAAAAAAAAAAAAAAAAAAAAAAAAAAAAAAAAAAAAAAAAAAAAAAAAAAAAAAAAAAAAAAAAAAAAAAAAAAAAAAAAAAAAAAAAAAAAAAAAAAAAAAAAAAAAAAAAAAAAAAAAAAAAAAAAAAAAAAAAAAAAAAAAAAAAAAAAAAAAAAAAAAAAAAAAAAAAAAAAAAAAAAAAAAAAAAAAAAAAAAAAAAAAAAAAAAAAAAAAAAAAAAAAAAAAAAAAAAAAAAAAAAAAAAAAAAAAAAAAAAAAAAAAAAAAAAAAAAAAAAAAAAAAAAAAAAAAAAAAAAAAAAAAAAAAAAAAAAAAAAAAAAAAAAAAAAAAAAAAAAAAAAAAAAAAAAAAAAAAAAAAAAAAAAAAAAAAAAAAAAAAAAAAAAAAAAAAAAAAAAAAAAAAAAAAAAAAAAAAAAAAAAAAAAAAAAAAAAAAAAAAAAAAAAAAAAAAAAAAAAAAAAAAAAAAAAAAAAAAAAAAAAAAAAAAAAAAAAAAAAAAAAAAAAAAAAAAAAAAAAAAAAAAAAAAAAAAAAAAAAAAAAAAAAAAAAAAAAAAAAAAAAAAAAAAAAAAAAAAAAAAAAAAAAAAAAAAAAAAAAAAAAAAAAAAAAAAAAAAAAAAAAAAAAAAAAAAAAAAAAAAAAAAAAAAAAAAAAAAAAAAAAAAAAAAAAAAAAAAAAAAAAAAAAAAAAAAAAAAAAAAAAAAAAAAAAAAAAAAAAAAAAAAAAAAAAAAAAAAAAAAAAAAAAAAAAAAAAAAAAAAAAAAAAAAAAAAAAAAAAAAAAAAAAAAAAAAAAAAAAAAAAAAAAAAAAAAAAAAAAAAAAAAAAAAAAAAAAAAAAAAAAAAAAAAAAAAAAAAAAAAAAAAAAAAAAAAAAAAAAAAAAAAAAAAAAAAAAAAAAAAAAAAAAAAAAAAAAAAAAAAAAAAAAAAAAAAAAAAAAAAAAAAAAAAAAAAAAAAAAAAAAAAAAAAAAAAAAAAAAAAAAAAAAAAAAAAAAAAAAAAAAAAAAAAAAAAAAAAAAAAAAAAAAAAAAAAAAAAAAAAAAAAAAAAAAAAAAAAAAAAAAAAAAAAAAAAAAAAAAAAAAAAAAAAAAAAAAAAAAAAAAAAAAAAAAAAAAAAAAAAAAAAAAAAAAAAAAAAAAAAAAAAAAAAAAAAAAAAAAAAAAAAAAAAAAAAAAAAAAAAAAAAAAAAAAAAAAAAAAAAAAAAAAAAAAAAAAAAAAAAAAAAAAAAAAAAAAAAAAAAAAAAAAAAAAAAAAAAAAAAAAAAAAAAAAAAAAAAAAAAAAAAAAAAAAAAAAAAAAAAAAAAAAAAAAAAAAAAAAAAAAAAAAAAAAAAAAAAAAAAAAAAAAAAAAAAAAAAAAAAAAAAAAAAAAAAAAAAAAAAAAAAAAAAAAAAAAAAAAAAAAAAAAAAAAAAAAAAAAAAAAAAAAAAAAAAAAAAAAAAAAAAAAAAAAAAAAAAAAAAAAAAAAAAAAAAAAAAAAAAAAAAAAAAAAAAAAAAAAAAAAAAAAAAAAAAAAAAAAAAAAAAAAAAAAAAAAAAAAAAAAAAAAAAAAAAAAAAAAAAAAAAAAAAAAAAAAAAAAAAAAAAAAAAAAAAAAAAAAAAAAAAAAAAAAAAAAAAAAAAAAAAAAAAAAAAAAAAAAAAAAAAAAAAAAAAAAAAAAAAAAAAAAAAAAAAAAAAAAAA=\",\"dtype\":\"float64\",\"order\":\"little\",\"shape\":[1570]},\"precision\":{\"__ndarray__\":\"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\",\"dtype\":\"float64\",\"order\":\"little\",\"shape\":[1570]},\"recall\":{\"__ndarray__\":\"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\",\"dtype\":\"float64\",\"order\":\"little\",\"shape\":[1570]},\"thr\":{\"__ndarray__\":\"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\",\"dtype\":\"float32\",\"order\":\"little\",\"shape\":[1569]}},\"selected\":{\"id\":\"3615\"},\"selection_policy\":{\"id\":\"3616\"}},\"id\":\"3601\",\"type\":\"ColumnDataSource\"},{\"attributes\":{},\"id\":\"3612\",\"type\":\"AllLabels\"},{\"attributes\":{\"data_source\":{\"id\":\"3601\"},\"glyph\":{\"id\":\"3603\"},\"hover_glyph\":null,\"muted_glyph\":null,\"nonselection_glyph\":{\"id\":\"3604\"},\"view\":{\"id\":\"3606\"}},\"id\":\"3605\",\"type\":\"GlyphRenderer\"},{\"attributes\":{\"label\":{\"value\":\"AUPRC: 49.32%\"},\"renderers\":[{\"id\":\"3605\"}]},\"id\":\"3618\",\"type\":\"LegendItem\"},{\"attributes\":{},\"id\":\"3591\",\"type\":\"ResetTool\"},{\"attributes\":{},\"id\":\"3580\",\"type\":\"BasicTicker\"},{\"attributes\":{\"source\":{\"id\":\"3601\"}},\"id\":\"3606\",\"type\":\"CDSView\"},{\"attributes\":{\"axis\":{\"id\":\"3583\"},\"dimension\":1,\"ticker\":null},\"id\":\"3586\",\"type\":\"Grid\"},{\"attributes\":{\"base\":{\"field\":\"recall\"},\"fill_alpha\":0.2,\"fill_color\":\"coral\",\"level\":\"underlay\",\"lower\":{\"field\":\"lower_band\"},\"source\":{\"id\":\"3601\"},\"upper\":{\"field\":\"precision\"}},\"id\":\"3619\",\"type\":\"Band\"},{\"attributes\":{},\"id\":\"3584\",\"type\":\"BasicTicker\"},{\"attributes\":{},\"id\":\"3587\",\"type\":\"PanTool\"},{\"attributes\":{},\"id\":\"3575\",\"type\":\"LinearScale\"},{\"attributes\":{\"format\":\"0%\"},\"id\":\"3623\",\"type\":\"NumeralTickFormatter\"},{\"attributes\":{\"axis\":{\"id\":\"3579\"},\"grid_line_color\":null,\"ticker\":null},\"id\":\"3582\",\"type\":\"Grid\"},{\"attributes\":{},\"id\":\"3577\",\"type\":\"LinearScale\"},{\"attributes\":{},\"id\":\"3616\",\"type\":\"UnionRenderers\"},{\"attributes\":{},\"id\":\"3592\",\"type\":\"HelpTool\"},{\"attributes\":{},\"id\":\"3571\",\"type\":\"DataRange1d\"},{\"attributes\":{},\"id\":\"3573\",\"type\":\"DataRange1d\"},{\"attributes\":{},\"id\":\"3588\",\"type\":\"WheelZoomTool\"},{\"attributes\":{},\"id\":\"3609\",\"type\":\"AllLabels\"},{\"attributes\":{},\"id\":\"3590\",\"type\":\"SaveTool\"},{\"attributes\":{\"active_multi\":null,\"tools\":[{\"id\":\"3587\"},{\"id\":\"3588\"},{\"id\":\"3589\"},{\"id\":\"3590\"},{\"id\":\"3591\"},{\"id\":\"3592\"}]},\"id\":\"3594\",\"type\":\"Toolbar\"},{\"attributes\":{\"overlay\":{\"id\":\"3593\"}},\"id\":\"3589\",\"type\":\"BoxZoomTool\"},{\"attributes\":{\"bottom_units\":\"screen\",\"fill_alpha\":0.5,\"fill_color\":\"lightgrey\",\"left_units\":\"screen\",\"level\":\"overlay\",\"line_alpha\":1.0,\"line_color\":\"black\",\"line_dash\":[4,4],\"line_width\":2,\"right_units\":\"screen\",\"syncable\":false,\"top_units\":\"screen\"},\"id\":\"3593\",\"type\":\"BoxAnnotation\"}],\"root_ids\":[\"3568\"]},\"title\":\"Bokeh Application\",\"version\":\"2.3.3\"}};\n",
       "  var render_items = [{\"docid\":\"01d476c6-34c0-4b53-b013-f92aa4903e33\",\"root_ids\":[\"3568\"],\"roots\":{\"3568\":\"84884ff8-a0aa-4249-9210-053330fdc051\"}}];\n",
       "  root.Bokeh.embed.embed_items_notebook(docs_json, render_items);\n",
       "\n",
       "  }\n",
       "  if (root.Bokeh !== undefined) {\n",
       "    embed_document(root);\n",
       "  } else {\n",
       "    var attempts = 0;\n",
       "    var timer = setInterval(function(root) {\n",
       "      if (root.Bokeh !== undefined) {\n",
       "        clearInterval(timer);\n",
       "        embed_document(root);\n",
       "      } else {\n",
       "        attempts++;\n",
       "        if (attempts > 100) {\n",
       "          clearInterval(timer);\n",
       "          console.log(\"Bokeh: ERROR: Unable to run BokehJS code because BokehJS library is missing\");\n",
       "        }\n",
       "      }\n",
       "    }, 10, root)\n",
       "  }\n",
       "})(window);"
      ],
      "application/vnd.bokehjs_exec.v0+json": ""
     },
     "metadata": {
      "application/vnd.bokehjs_exec.v0+json": {
       "id": "3568"
      }
     },
     "output_type": "display_data"
    }
   ],
   "source": [
    "plot_pr_curve(\n",
    "    precision_recall_curve(test_labels, recon_errors),\n",
    "    average_precision_score(test_labels, recon_errors),\n",
    "    model_name=MODEL_NAME,\n",
    "    file_name=os.path.join(IMAGE_PATH, \"pr_curve.svg\"),\n",
    ")"
   ]
  },
  {
   "cell_type": "code",
   "execution_count": null,
   "id": "56489a99",
   "metadata": {},
   "outputs": [],
   "source": []
  },
  {
   "cell_type": "code",
   "execution_count": null,
   "id": "3635263d",
   "metadata": {},
   "outputs": [],
   "source": []
  }
 ],
 "metadata": {
  "kernelspec": {
   "display_name": "Python 3 (ipykernel)",
   "language": "python",
   "name": "python3"
  },
  "language_info": {
   "codemirror_mode": {
    "name": "ipython",
    "version": 3
   },
   "file_extension": ".py",
   "mimetype": "text/x-python",
   "name": "python",
   "nbconvert_exporter": "python",
   "pygments_lexer": "ipython3",
   "version": "3.6.5"
  }
 },
 "nbformat": 4,
 "nbformat_minor": 5
}
